{
  "cells": [
    {
      "cell_type": "code",
      "source": [
        "from google.colab import drive\n",
        "drive.mount('/content/drive')\n"
      ],
      "metadata": {
        "colab": {
          "base_uri": "https://localhost:8080/"
        },
        "id": "8N61pdUy8hvh",
        "outputId": "e354ea9b-5773-4b45-a107-a21226e18943"
      },
      "id": "8N61pdUy8hvh",
      "execution_count": 1,
      "outputs": [
        {
          "output_type": "stream",
          "name": "stdout",
          "text": [
            "Mounted at /content/drive\n"
          ]
        }
      ]
    },
    {
      "cell_type": "code",
      "execution_count": 2,
      "id": "0e9d43d3",
      "metadata": {
        "id": "0e9d43d3"
      },
      "outputs": [],
      "source": [
        "import pandas as pd\n",
        "import numpy as np\n",
        "from sklearn.model_selection import train_test_split\n",
        "import time\n",
        "import os\n",
        "import tensorflow as tf\n",
        "from sklearn.metrics import confusion_matrix, precision_score, recall_score, f1_score"
      ]
    },
    {
      "cell_type": "code",
      "execution_count": 3,
      "id": "7d366fd3",
      "metadata": {
        "id": "7d366fd3"
      },
      "outputs": [],
      "source": [
        "df=pd.read_csv(\"/content/drive/MyDrive/bully_blocker/data.csv\")"
      ]
    },
    {
      "cell_type": "code",
      "execution_count": 4,
      "id": "a6d191fe",
      "metadata": {
        "colab": {
          "base_uri": "https://localhost:8080/",
          "height": 206
        },
        "id": "a6d191fe",
        "outputId": "5832107c-2d02-4d7f-f4bb-2828176dd90a"
      },
      "outputs": [
        {
          "output_type": "execute_result",
          "data": {
            "text/plain": [
              "                                            comments  tagging\n",
              "0                             Get fucking real dude.        1\n",
              "1   She is as dirty as they come  and that crook ...        1\n",
              "2   why did you fuck it up. I could do it all day...        1\n",
              "3   Dude they dont finish enclosing the fucking s...        1\n",
              "4   WTF are you talking about Men? No men thats n...        1"
            ],
            "text/html": [
              "\n",
              "  <div id=\"df-23de519c-35e1-46c2-b291-c71b16a05820\" class=\"colab-df-container\">\n",
              "    <div>\n",
              "<style scoped>\n",
              "    .dataframe tbody tr th:only-of-type {\n",
              "        vertical-align: middle;\n",
              "    }\n",
              "\n",
              "    .dataframe tbody tr th {\n",
              "        vertical-align: top;\n",
              "    }\n",
              "\n",
              "    .dataframe thead th {\n",
              "        text-align: right;\n",
              "    }\n",
              "</style>\n",
              "<table border=\"1\" class=\"dataframe\">\n",
              "  <thead>\n",
              "    <tr style=\"text-align: right;\">\n",
              "      <th></th>\n",
              "      <th>comments</th>\n",
              "      <th>tagging</th>\n",
              "    </tr>\n",
              "  </thead>\n",
              "  <tbody>\n",
              "    <tr>\n",
              "      <th>0</th>\n",
              "      <td>Get fucking real dude.</td>\n",
              "      <td>1</td>\n",
              "    </tr>\n",
              "    <tr>\n",
              "      <th>1</th>\n",
              "      <td>She is as dirty as they come  and that crook ...</td>\n",
              "      <td>1</td>\n",
              "    </tr>\n",
              "    <tr>\n",
              "      <th>2</th>\n",
              "      <td>why did you fuck it up. I could do it all day...</td>\n",
              "      <td>1</td>\n",
              "    </tr>\n",
              "    <tr>\n",
              "      <th>3</th>\n",
              "      <td>Dude they dont finish enclosing the fucking s...</td>\n",
              "      <td>1</td>\n",
              "    </tr>\n",
              "    <tr>\n",
              "      <th>4</th>\n",
              "      <td>WTF are you talking about Men? No men thats n...</td>\n",
              "      <td>1</td>\n",
              "    </tr>\n",
              "  </tbody>\n",
              "</table>\n",
              "</div>\n",
              "    <div class=\"colab-df-buttons\">\n",
              "\n",
              "  <div class=\"colab-df-container\">\n",
              "    <button class=\"colab-df-convert\" onclick=\"convertToInteractive('df-23de519c-35e1-46c2-b291-c71b16a05820')\"\n",
              "            title=\"Convert this dataframe to an interactive table.\"\n",
              "            style=\"display:none;\">\n",
              "\n",
              "  <svg xmlns=\"http://www.w3.org/2000/svg\" height=\"24px\" viewBox=\"0 -960 960 960\">\n",
              "    <path d=\"M120-120v-720h720v720H120Zm60-500h600v-160H180v160Zm220 220h160v-160H400v160Zm0 220h160v-160H400v160ZM180-400h160v-160H180v160Zm440 0h160v-160H620v160ZM180-180h160v-160H180v160Zm440 0h160v-160H620v160Z\"/>\n",
              "  </svg>\n",
              "    </button>\n",
              "\n",
              "  <style>\n",
              "    .colab-df-container {\n",
              "      display:flex;\n",
              "      gap: 12px;\n",
              "    }\n",
              "\n",
              "    .colab-df-convert {\n",
              "      background-color: #E8F0FE;\n",
              "      border: none;\n",
              "      border-radius: 50%;\n",
              "      cursor: pointer;\n",
              "      display: none;\n",
              "      fill: #1967D2;\n",
              "      height: 32px;\n",
              "      padding: 0 0 0 0;\n",
              "      width: 32px;\n",
              "    }\n",
              "\n",
              "    .colab-df-convert:hover {\n",
              "      background-color: #E2EBFA;\n",
              "      box-shadow: 0px 1px 2px rgba(60, 64, 67, 0.3), 0px 1px 3px 1px rgba(60, 64, 67, 0.15);\n",
              "      fill: #174EA6;\n",
              "    }\n",
              "\n",
              "    .colab-df-buttons div {\n",
              "      margin-bottom: 4px;\n",
              "    }\n",
              "\n",
              "    [theme=dark] .colab-df-convert {\n",
              "      background-color: #3B4455;\n",
              "      fill: #D2E3FC;\n",
              "    }\n",
              "\n",
              "    [theme=dark] .colab-df-convert:hover {\n",
              "      background-color: #434B5C;\n",
              "      box-shadow: 0px 1px 3px 1px rgba(0, 0, 0, 0.15);\n",
              "      filter: drop-shadow(0px 1px 2px rgba(0, 0, 0, 0.3));\n",
              "      fill: #FFFFFF;\n",
              "    }\n",
              "  </style>\n",
              "\n",
              "    <script>\n",
              "      const buttonEl =\n",
              "        document.querySelector('#df-23de519c-35e1-46c2-b291-c71b16a05820 button.colab-df-convert');\n",
              "      buttonEl.style.display =\n",
              "        google.colab.kernel.accessAllowed ? 'block' : 'none';\n",
              "\n",
              "      async function convertToInteractive(key) {\n",
              "        const element = document.querySelector('#df-23de519c-35e1-46c2-b291-c71b16a05820');\n",
              "        const dataTable =\n",
              "          await google.colab.kernel.invokeFunction('convertToInteractive',\n",
              "                                                    [key], {});\n",
              "        if (!dataTable) return;\n",
              "\n",
              "        const docLinkHtml = 'Like what you see? Visit the ' +\n",
              "          '<a target=\"_blank\" href=https://colab.research.google.com/notebooks/data_table.ipynb>data table notebook</a>'\n",
              "          + ' to learn more about interactive tables.';\n",
              "        element.innerHTML = '';\n",
              "        dataTable['output_type'] = 'display_data';\n",
              "        await google.colab.output.renderOutput(dataTable, element);\n",
              "        const docLink = document.createElement('div');\n",
              "        docLink.innerHTML = docLinkHtml;\n",
              "        element.appendChild(docLink);\n",
              "      }\n",
              "    </script>\n",
              "  </div>\n",
              "\n",
              "\n",
              "<div id=\"df-655aa60b-22f5-4701-8aa4-56e80a6a2f8a\">\n",
              "  <button class=\"colab-df-quickchart\" onclick=\"quickchart('df-655aa60b-22f5-4701-8aa4-56e80a6a2f8a')\"\n",
              "            title=\"Suggest charts\"\n",
              "            style=\"display:none;\">\n",
              "\n",
              "<svg xmlns=\"http://www.w3.org/2000/svg\" height=\"24px\"viewBox=\"0 0 24 24\"\n",
              "     width=\"24px\">\n",
              "    <g>\n",
              "        <path d=\"M19 3H5c-1.1 0-2 .9-2 2v14c0 1.1.9 2 2 2h14c1.1 0 2-.9 2-2V5c0-1.1-.9-2-2-2zM9 17H7v-7h2v7zm4 0h-2V7h2v10zm4 0h-2v-4h2v4z\"/>\n",
              "    </g>\n",
              "</svg>\n",
              "  </button>\n",
              "\n",
              "<style>\n",
              "  .colab-df-quickchart {\n",
              "      --bg-color: #E8F0FE;\n",
              "      --fill-color: #1967D2;\n",
              "      --hover-bg-color: #E2EBFA;\n",
              "      --hover-fill-color: #174EA6;\n",
              "      --disabled-fill-color: #AAA;\n",
              "      --disabled-bg-color: #DDD;\n",
              "  }\n",
              "\n",
              "  [theme=dark] .colab-df-quickchart {\n",
              "      --bg-color: #3B4455;\n",
              "      --fill-color: #D2E3FC;\n",
              "      --hover-bg-color: #434B5C;\n",
              "      --hover-fill-color: #FFFFFF;\n",
              "      --disabled-bg-color: #3B4455;\n",
              "      --disabled-fill-color: #666;\n",
              "  }\n",
              "\n",
              "  .colab-df-quickchart {\n",
              "    background-color: var(--bg-color);\n",
              "    border: none;\n",
              "    border-radius: 50%;\n",
              "    cursor: pointer;\n",
              "    display: none;\n",
              "    fill: var(--fill-color);\n",
              "    height: 32px;\n",
              "    padding: 0;\n",
              "    width: 32px;\n",
              "  }\n",
              "\n",
              "  .colab-df-quickchart:hover {\n",
              "    background-color: var(--hover-bg-color);\n",
              "    box-shadow: 0 1px 2px rgba(60, 64, 67, 0.3), 0 1px 3px 1px rgba(60, 64, 67, 0.15);\n",
              "    fill: var(--button-hover-fill-color);\n",
              "  }\n",
              "\n",
              "  .colab-df-quickchart-complete:disabled,\n",
              "  .colab-df-quickchart-complete:disabled:hover {\n",
              "    background-color: var(--disabled-bg-color);\n",
              "    fill: var(--disabled-fill-color);\n",
              "    box-shadow: none;\n",
              "  }\n",
              "\n",
              "  .colab-df-spinner {\n",
              "    border: 2px solid var(--fill-color);\n",
              "    border-color: transparent;\n",
              "    border-bottom-color: var(--fill-color);\n",
              "    animation:\n",
              "      spin 1s steps(1) infinite;\n",
              "  }\n",
              "\n",
              "  @keyframes spin {\n",
              "    0% {\n",
              "      border-color: transparent;\n",
              "      border-bottom-color: var(--fill-color);\n",
              "      border-left-color: var(--fill-color);\n",
              "    }\n",
              "    20% {\n",
              "      border-color: transparent;\n",
              "      border-left-color: var(--fill-color);\n",
              "      border-top-color: var(--fill-color);\n",
              "    }\n",
              "    30% {\n",
              "      border-color: transparent;\n",
              "      border-left-color: var(--fill-color);\n",
              "      border-top-color: var(--fill-color);\n",
              "      border-right-color: var(--fill-color);\n",
              "    }\n",
              "    40% {\n",
              "      border-color: transparent;\n",
              "      border-right-color: var(--fill-color);\n",
              "      border-top-color: var(--fill-color);\n",
              "    }\n",
              "    60% {\n",
              "      border-color: transparent;\n",
              "      border-right-color: var(--fill-color);\n",
              "    }\n",
              "    80% {\n",
              "      border-color: transparent;\n",
              "      border-right-color: var(--fill-color);\n",
              "      border-bottom-color: var(--fill-color);\n",
              "    }\n",
              "    90% {\n",
              "      border-color: transparent;\n",
              "      border-bottom-color: var(--fill-color);\n",
              "    }\n",
              "  }\n",
              "</style>\n",
              "\n",
              "  <script>\n",
              "    async function quickchart(key) {\n",
              "      const quickchartButtonEl =\n",
              "        document.querySelector('#' + key + ' button');\n",
              "      quickchartButtonEl.disabled = true;  // To prevent multiple clicks.\n",
              "      quickchartButtonEl.classList.add('colab-df-spinner');\n",
              "      try {\n",
              "        const charts = await google.colab.kernel.invokeFunction(\n",
              "            'suggestCharts', [key], {});\n",
              "      } catch (error) {\n",
              "        console.error('Error during call to suggestCharts:', error);\n",
              "      }\n",
              "      quickchartButtonEl.classList.remove('colab-df-spinner');\n",
              "      quickchartButtonEl.classList.add('colab-df-quickchart-complete');\n",
              "    }\n",
              "    (() => {\n",
              "      let quickchartButtonEl =\n",
              "        document.querySelector('#df-655aa60b-22f5-4701-8aa4-56e80a6a2f8a button');\n",
              "      quickchartButtonEl.style.display =\n",
              "        google.colab.kernel.accessAllowed ? 'block' : 'none';\n",
              "    })();\n",
              "  </script>\n",
              "</div>\n",
              "\n",
              "    </div>\n",
              "  </div>\n"
            ],
            "application/vnd.google.colaboratory.intrinsic+json": {
              "type": "dataframe",
              "variable_name": "df",
              "summary": "{\n  \"name\": \"df\",\n  \"rows\": 20001,\n  \"fields\": [\n    {\n      \"column\": \"comments\",\n      \"properties\": {\n        \"dtype\": \"string\",\n        \"num_unique_values\": 14637,\n        \"samples\": [\n          \"damn the end of an era huh? my favorite studio is moving. Gotta have one more classic session before the move\",\n          \"DAMN!!! Its 11 degrees in the UK and i feel cold! Feel for you my dude\",\n          \"Damn! No  sorry! I was afraid you'd think that. Sorrrry!\"\n        ],\n        \"semantic_type\": \"\",\n        \"description\": \"\"\n      }\n    },\n    {\n      \"column\": \"tagging\",\n      \"properties\": {\n        \"dtype\": \"number\",\n        \"std\": 0,\n        \"min\": 0,\n        \"max\": 1,\n        \"num_unique_values\": 2,\n        \"samples\": [\n          0,\n          1\n        ],\n        \"semantic_type\": \"\",\n        \"description\": \"\"\n      }\n    }\n  ]\n}"
            }
          },
          "metadata": {},
          "execution_count": 4
        }
      ],
      "source": [
        "df.head()"
      ]
    },
    {
      "cell_type": "code",
      "execution_count": 5,
      "id": "c55373da",
      "metadata": {
        "colab": {
          "base_uri": "https://localhost:8080/",
          "height": 206
        },
        "id": "c55373da",
        "outputId": "f88f5d77-06eb-47e3-d0b3-dcb67b23e051"
      },
      "outputs": [
        {
          "output_type": "execute_result",
          "data": {
            "text/plain": [
              "<pandas.io.formats.style.Styler at 0x7c3c743026e0>"
            ],
            "text/html": [
              "<style type=\"text/css\">\n",
              "#T_daaa6_row0_col0, #T_daaa6_row0_col1, #T_daaa6_row1_col0, #T_daaa6_row1_col1, #T_daaa6_row2_col0, #T_daaa6_row2_col1, #T_daaa6_row3_col0, #T_daaa6_row3_col1, #T_daaa6_row4_col0, #T_daaa6_row4_col1 {\n",
              "  background-color: Aqua;\n",
              "  color: purple;\n",
              "}\n",
              "</style>\n",
              "<table id=\"T_daaa6\" class=\"dataframe\">\n",
              "  <thead>\n",
              "    <tr>\n",
              "      <th class=\"blank level0\" >&nbsp;</th>\n",
              "      <th id=\"T_daaa6_level0_col0\" class=\"col_heading level0 col0\" >comments</th>\n",
              "      <th id=\"T_daaa6_level0_col1\" class=\"col_heading level0 col1\" >tagging</th>\n",
              "    </tr>\n",
              "  </thead>\n",
              "  <tbody>\n",
              "    <tr>\n",
              "      <th id=\"T_daaa6_level0_row0\" class=\"row_heading level0 row0\" >0</th>\n",
              "      <td id=\"T_daaa6_row0_col0\" class=\"data row0 col0\" > Get fucking real dude.</td>\n",
              "      <td id=\"T_daaa6_row0_col1\" class=\"data row0 col1\" >1</td>\n",
              "    </tr>\n",
              "    <tr>\n",
              "      <th id=\"T_daaa6_level0_row1\" class=\"row_heading level0 row1\" >1</th>\n",
              "      <td id=\"T_daaa6_row1_col0\" class=\"data row1 col0\" > She is as dirty as they come  and that crook Rengel  the Dems are so fucking corrupt it's a joke. Make Republicans look like  ...</td>\n",
              "      <td id=\"T_daaa6_row1_col1\" class=\"data row1 col1\" >1</td>\n",
              "    </tr>\n",
              "    <tr>\n",
              "      <th id=\"T_daaa6_level0_row2\" class=\"row_heading level0 row2\" >2</th>\n",
              "      <td id=\"T_daaa6_row2_col0\" class=\"data row2 col0\" > why did you fuck it up. I could do it all day too. Let's do it when you have an hour. Ping me later to sched writing a book here.</td>\n",
              "      <td id=\"T_daaa6_row2_col1\" class=\"data row2 col1\" >1</td>\n",
              "    </tr>\n",
              "    <tr>\n",
              "      <th id=\"T_daaa6_level0_row3\" class=\"row_heading level0 row3\" >3</th>\n",
              "      <td id=\"T_daaa6_row3_col0\" class=\"data row3 col0\" > Dude they dont finish enclosing the fucking showers. I hate half assed jobs. Whats the reasononing behind it? Makes no sense.</td>\n",
              "      <td id=\"T_daaa6_row3_col1\" class=\"data row3 col1\" >1</td>\n",
              "    </tr>\n",
              "    <tr>\n",
              "      <th id=\"T_daaa6_level0_row4\" class=\"row_heading level0 row4\" >4</th>\n",
              "      <td id=\"T_daaa6_row4_col0\" class=\"data row4 col0\" > WTF are you talking about Men? No men thats not a menage  that's just gay.</td>\n",
              "      <td id=\"T_daaa6_row4_col1\" class=\"data row4 col1\" >1</td>\n",
              "    </tr>\n",
              "  </tbody>\n",
              "</table>\n"
            ]
          },
          "metadata": {},
          "execution_count": 5
        }
      ],
      "source": [
        "df.head().style.set_properties(**{'background-color':'Aqua',\n",
        "                                     'color': 'purple'})"
      ]
    },
    {
      "cell_type": "code",
      "execution_count": 6,
      "id": "ba14324f",
      "metadata": {
        "colab": {
          "base_uri": "https://localhost:8080/"
        },
        "id": "ba14324f",
        "outputId": "889bc2b3-82b5-4733-a720-3c7c37885259"
      },
      "outputs": [
        {
          "output_type": "execute_result",
          "data": {
            "text/plain": [
              "(20001, 2)"
            ]
          },
          "metadata": {},
          "execution_count": 6
        }
      ],
      "source": [
        "df.shape"
      ]
    },
    {
      "cell_type": "code",
      "execution_count": 7,
      "id": "7146bfbc",
      "metadata": {
        "colab": {
          "base_uri": "https://localhost:8080/",
          "height": 178
        },
        "id": "7146bfbc",
        "outputId": "2fb8bdac-f73e-4c3a-c3d8-1df185efbd7d"
      },
      "outputs": [
        {
          "output_type": "execute_result",
          "data": {
            "text/plain": [
              "tagging\n",
              "0    12179\n",
              "1     7822\n",
              "Name: count, dtype: int64"
            ],
            "text/html": [
              "<div>\n",
              "<style scoped>\n",
              "    .dataframe tbody tr th:only-of-type {\n",
              "        vertical-align: middle;\n",
              "    }\n",
              "\n",
              "    .dataframe tbody tr th {\n",
              "        vertical-align: top;\n",
              "    }\n",
              "\n",
              "    .dataframe thead th {\n",
              "        text-align: right;\n",
              "    }\n",
              "</style>\n",
              "<table border=\"1\" class=\"dataframe\">\n",
              "  <thead>\n",
              "    <tr style=\"text-align: right;\">\n",
              "      <th></th>\n",
              "      <th>count</th>\n",
              "    </tr>\n",
              "    <tr>\n",
              "      <th>tagging</th>\n",
              "      <th></th>\n",
              "    </tr>\n",
              "  </thead>\n",
              "  <tbody>\n",
              "    <tr>\n",
              "      <th>0</th>\n",
              "      <td>12179</td>\n",
              "    </tr>\n",
              "    <tr>\n",
              "      <th>1</th>\n",
              "      <td>7822</td>\n",
              "    </tr>\n",
              "  </tbody>\n",
              "</table>\n",
              "</div><br><label><b>dtype:</b> int64</label>"
            ]
          },
          "metadata": {},
          "execution_count": 7
        }
      ],
      "source": [
        "df['tagging'].value_counts()"
      ]
    },
    {
      "cell_type": "code",
      "execution_count": 8,
      "id": "1b47bdf2",
      "metadata": {
        "id": "1b47bdf2"
      },
      "outputs": [],
      "source": [
        "label_counts = {}\n",
        "for label in df['tagging']:\n",
        "    if label in label_counts:\n",
        "        label_counts[label] += 1\n",
        "    else:\n",
        "        label_counts[label] = 1"
      ]
    },
    {
      "cell_type": "code",
      "execution_count": 9,
      "id": "6df1f422",
      "metadata": {
        "colab": {
          "base_uri": "https://localhost:8080/"
        },
        "id": "6df1f422",
        "outputId": "a4dc5934-24e0-4d48-80bb-0b9c2f406ef4"
      },
      "outputs": [
        {
          "output_type": "execute_result",
          "data": {
            "text/plain": [
              "{1: 7822, 0: 12179}"
            ]
          },
          "metadata": {},
          "execution_count": 9
        }
      ],
      "source": [
        "label_counts"
      ]
    },
    {
      "cell_type": "code",
      "execution_count": 9,
      "id": "4ce6829c",
      "metadata": {
        "id": "4ce6829c"
      },
      "outputs": [],
      "source": []
    },
    {
      "cell_type": "code",
      "execution_count": 10,
      "id": "af06161a",
      "metadata": {
        "id": "af06161a"
      },
      "outputs": [],
      "source": [
        "def get_sequences(texts, tokenizer, train=True, max_seq_length=None):\n",
        "    sequences = tokenizer.texts_to_sequences(texts)\n",
        "\n",
        "    if train == True:\n",
        "        max_seq_length = np.max(list(map(lambda x: len(x), sequences)))\n",
        "\n",
        "    sequences = tf.keras.preprocessing.sequence.pad_sequences(sequences, maxlen=max_seq_length, padding='post')\n",
        "\n",
        "    return sequences\n"
      ]
    },
    {
      "cell_type": "code",
      "execution_count": 11,
      "id": "6aa41db5",
      "metadata": {
        "id": "6aa41db5"
      },
      "outputs": [],
      "source": [
        "def preprocess_inputs(df):\n",
        "    df = df.copy()\n",
        "\n",
        "\n",
        "    y = df['tagging']\n",
        "    X = df['comments']\n",
        "\n",
        "    X_train, X_test, y_train, y_test = train_test_split(X, y, train_size=0.7, shuffle=True, random_state=1)\n",
        "\n",
        "    tokenizer = tf.keras.preprocessing.text.Tokenizer(num_words=30000)\n",
        "\n",
        "    tokenizer.fit_on_texts(X_train)\n",
        "\n",
        "    X_train = get_sequences(X_train, tokenizer, train=True)\n",
        "    X_test = get_sequences(X_test, tokenizer, train=False, max_seq_length=X_train.shape[1])\n",
        "\n",
        "    return X_train, X_test, y_train, y_test"
      ]
    },
    {
      "cell_type": "code",
      "execution_count": 12,
      "id": "b1436a1a",
      "metadata": {
        "id": "b1436a1a"
      },
      "outputs": [],
      "source": [
        "X_train, X_test, y_train, y_test = preprocess_inputs(df)"
      ]
    },
    {
      "cell_type": "code",
      "execution_count": 13,
      "id": "d66f67b5",
      "metadata": {
        "colab": {
          "base_uri": "https://localhost:8080/"
        },
        "id": "d66f67b5",
        "outputId": "9619ac28-12fa-47d1-d4bf-26bb87896c7c"
      },
      "outputs": [
        {
          "output_type": "execute_result",
          "data": {
            "text/plain": [
              "array([[   1,  537,  579, ...,    0,    0,    0],\n",
              "       [ 116, 1574,  149, ...,    0,    0,    0],\n",
              "       [ 164, 5268,  892, ...,    0,    0,    0],\n",
              "       ...,\n",
              "       [  18,   37,   42, ...,    0,    0,    0],\n",
              "       [  38,  241,    1, ...,    0,    0,    0],\n",
              "       [  28, 4690,    0, ...,    0,    0,    0]], dtype=int32)"
            ]
          },
          "metadata": {},
          "execution_count": 13
        }
      ],
      "source": [
        "X_train"
      ]
    },
    {
      "cell_type": "code",
      "execution_count": 14,
      "id": "aac6f663",
      "metadata": {
        "colab": {
          "base_uri": "https://localhost:8080/",
          "height": 178
        },
        "id": "aac6f663",
        "outputId": "1c4ba062-769d-45fe-84af-2714466b7d1e"
      },
      "outputs": [
        {
          "output_type": "execute_result",
          "data": {
            "text/plain": [
              "tagging\n",
              "0    8554\n",
              "1    5446\n",
              "Name: count, dtype: int64"
            ],
            "text/html": [
              "<div>\n",
              "<style scoped>\n",
              "    .dataframe tbody tr th:only-of-type {\n",
              "        vertical-align: middle;\n",
              "    }\n",
              "\n",
              "    .dataframe tbody tr th {\n",
              "        vertical-align: top;\n",
              "    }\n",
              "\n",
              "    .dataframe thead th {\n",
              "        text-align: right;\n",
              "    }\n",
              "</style>\n",
              "<table border=\"1\" class=\"dataframe\">\n",
              "  <thead>\n",
              "    <tr style=\"text-align: right;\">\n",
              "      <th></th>\n",
              "      <th>count</th>\n",
              "    </tr>\n",
              "    <tr>\n",
              "      <th>tagging</th>\n",
              "      <th></th>\n",
              "    </tr>\n",
              "  </thead>\n",
              "  <tbody>\n",
              "    <tr>\n",
              "      <th>0</th>\n",
              "      <td>8554</td>\n",
              "    </tr>\n",
              "    <tr>\n",
              "      <th>1</th>\n",
              "      <td>5446</td>\n",
              "    </tr>\n",
              "  </tbody>\n",
              "</table>\n",
              "</div><br><label><b>dtype:</b> int64</label>"
            ]
          },
          "metadata": {},
          "execution_count": 14
        }
      ],
      "source": [
        "y_train.value_counts()"
      ]
    },
    {
      "cell_type": "code",
      "execution_count": 15,
      "id": "dc6ba92d",
      "metadata": {
        "colab": {
          "base_uri": "https://localhost:8080/"
        },
        "id": "dc6ba92d",
        "outputId": "1ca53898-ea3a-48ff-91c7-8ff2442ae0ef"
      },
      "outputs": [
        {
          "output_type": "execute_result",
          "data": {
            "text/plain": [
              "(14000, 207)"
            ]
          },
          "metadata": {},
          "execution_count": 15
        }
      ],
      "source": [
        "X_train.shape"
      ]
    },
    {
      "cell_type": "code",
      "execution_count": 16,
      "id": "d372bc15",
      "metadata": {
        "colab": {
          "base_uri": "https://localhost:8080/",
          "height": 261
        },
        "id": "d372bc15",
        "outputId": "31904a6d-3966-4e4c-e7bb-287a45ade8c2"
      },
      "outputs": [
        {
          "output_type": "display_data",
          "data": {
            "text/plain": [
              "\u001b[1mModel: \"functional\"\u001b[0m\n"
            ],
            "text/html": [
              "<pre style=\"white-space:pre;overflow-x:auto;line-height:normal;font-family:Menlo,'DejaVu Sans Mono',consolas,'Courier New',monospace\"><span style=\"font-weight: bold\">Model: \"functional\"</span>\n",
              "</pre>\n"
            ]
          },
          "metadata": {}
        },
        {
          "output_type": "display_data",
          "data": {
            "text/plain": [
              "┏━━━━━━━━━━━━━━━━━━━━━━━━━━━━━━━━━━━━━━┳━━━━━━━━━━━━━━━━━━━━━━━━━━━━━┳━━━━━━━━━━━━━━━━━┓\n",
              "┃\u001b[1m \u001b[0m\u001b[1mLayer (type)                        \u001b[0m\u001b[1m \u001b[0m┃\u001b[1m \u001b[0m\u001b[1mOutput Shape               \u001b[0m\u001b[1m \u001b[0m┃\u001b[1m \u001b[0m\u001b[1m        Param #\u001b[0m\u001b[1m \u001b[0m┃\n",
              "┡━━━━━━━━━━━━━━━━━━━━━━━━━━━━━━━━━━━━━━╇━━━━━━━━━━━━━━━━━━━━━━━━━━━━━╇━━━━━━━━━━━━━━━━━┩\n",
              "│ input_layer (\u001b[38;5;33mInputLayer\u001b[0m)             │ (\u001b[38;5;45mNone\u001b[0m, \u001b[38;5;34m207\u001b[0m)                 │               \u001b[38;5;34m0\u001b[0m │\n",
              "├──────────────────────────────────────┼─────────────────────────────┼─────────────────┤\n",
              "│ embedding (\u001b[38;5;33mEmbedding\u001b[0m)                │ (\u001b[38;5;45mNone\u001b[0m, \u001b[38;5;34m207\u001b[0m, \u001b[38;5;34m64\u001b[0m)             │       \u001b[38;5;34m1,920,000\u001b[0m │\n",
              "├──────────────────────────────────────┼─────────────────────────────┼─────────────────┤\n",
              "│ flatten (\u001b[38;5;33mFlatten\u001b[0m)                    │ (\u001b[38;5;45mNone\u001b[0m, \u001b[38;5;34m13248\u001b[0m)               │               \u001b[38;5;34m0\u001b[0m │\n",
              "├──────────────────────────────────────┼─────────────────────────────┼─────────────────┤\n",
              "│ dense (\u001b[38;5;33mDense\u001b[0m)                        │ (\u001b[38;5;45mNone\u001b[0m, \u001b[38;5;34m1\u001b[0m)                   │          \u001b[38;5;34m13,249\u001b[0m │\n",
              "└──────────────────────────────────────┴─────────────────────────────┴─────────────────┘\n"
            ],
            "text/html": [
              "<pre style=\"white-space:pre;overflow-x:auto;line-height:normal;font-family:Menlo,'DejaVu Sans Mono',consolas,'Courier New',monospace\">┏━━━━━━━━━━━━━━━━━━━━━━━━━━━━━━━━━━━━━━┳━━━━━━━━━━━━━━━━━━━━━━━━━━━━━┳━━━━━━━━━━━━━━━━━┓\n",
              "┃<span style=\"font-weight: bold\"> Layer (type)                         </span>┃<span style=\"font-weight: bold\"> Output Shape                </span>┃<span style=\"font-weight: bold\">         Param # </span>┃\n",
              "┡━━━━━━━━━━━━━━━━━━━━━━━━━━━━━━━━━━━━━━╇━━━━━━━━━━━━━━━━━━━━━━━━━━━━━╇━━━━━━━━━━━━━━━━━┩\n",
              "│ input_layer (<span style=\"color: #0087ff; text-decoration-color: #0087ff\">InputLayer</span>)             │ (<span style=\"color: #00d7ff; text-decoration-color: #00d7ff\">None</span>, <span style=\"color: #00af00; text-decoration-color: #00af00\">207</span>)                 │               <span style=\"color: #00af00; text-decoration-color: #00af00\">0</span> │\n",
              "├──────────────────────────────────────┼─────────────────────────────┼─────────────────┤\n",
              "│ embedding (<span style=\"color: #0087ff; text-decoration-color: #0087ff\">Embedding</span>)                │ (<span style=\"color: #00d7ff; text-decoration-color: #00d7ff\">None</span>, <span style=\"color: #00af00; text-decoration-color: #00af00\">207</span>, <span style=\"color: #00af00; text-decoration-color: #00af00\">64</span>)             │       <span style=\"color: #00af00; text-decoration-color: #00af00\">1,920,000</span> │\n",
              "├──────────────────────────────────────┼─────────────────────────────┼─────────────────┤\n",
              "│ flatten (<span style=\"color: #0087ff; text-decoration-color: #0087ff\">Flatten</span>)                    │ (<span style=\"color: #00d7ff; text-decoration-color: #00d7ff\">None</span>, <span style=\"color: #00af00; text-decoration-color: #00af00\">13248</span>)               │               <span style=\"color: #00af00; text-decoration-color: #00af00\">0</span> │\n",
              "├──────────────────────────────────────┼─────────────────────────────┼─────────────────┤\n",
              "│ dense (<span style=\"color: #0087ff; text-decoration-color: #0087ff\">Dense</span>)                        │ (<span style=\"color: #00d7ff; text-decoration-color: #00d7ff\">None</span>, <span style=\"color: #00af00; text-decoration-color: #00af00\">1</span>)                   │          <span style=\"color: #00af00; text-decoration-color: #00af00\">13,249</span> │\n",
              "└──────────────────────────────────────┴─────────────────────────────┴─────────────────┘\n",
              "</pre>\n"
            ]
          },
          "metadata": {}
        },
        {
          "output_type": "display_data",
          "data": {
            "text/plain": [
              "\u001b[1m Total params: \u001b[0m\u001b[38;5;34m1,933,249\u001b[0m (7.37 MB)\n"
            ],
            "text/html": [
              "<pre style=\"white-space:pre;overflow-x:auto;line-height:normal;font-family:Menlo,'DejaVu Sans Mono',consolas,'Courier New',monospace\"><span style=\"font-weight: bold\"> Total params: </span><span style=\"color: #00af00; text-decoration-color: #00af00\">1,933,249</span> (7.37 MB)\n",
              "</pre>\n"
            ]
          },
          "metadata": {}
        },
        {
          "output_type": "display_data",
          "data": {
            "text/plain": [
              "\u001b[1m Trainable params: \u001b[0m\u001b[38;5;34m1,933,249\u001b[0m (7.37 MB)\n"
            ],
            "text/html": [
              "<pre style=\"white-space:pre;overflow-x:auto;line-height:normal;font-family:Menlo,'DejaVu Sans Mono',consolas,'Courier New',monospace\"><span style=\"font-weight: bold\"> Trainable params: </span><span style=\"color: #00af00; text-decoration-color: #00af00\">1,933,249</span> (7.37 MB)\n",
              "</pre>\n"
            ]
          },
          "metadata": {}
        },
        {
          "output_type": "display_data",
          "data": {
            "text/plain": [
              "\u001b[1m Non-trainable params: \u001b[0m\u001b[38;5;34m0\u001b[0m (0.00 B)\n"
            ],
            "text/html": [
              "<pre style=\"white-space:pre;overflow-x:auto;line-height:normal;font-family:Menlo,'DejaVu Sans Mono',consolas,'Courier New',monospace\"><span style=\"font-weight: bold\"> Non-trainable params: </span><span style=\"color: #00af00; text-decoration-color: #00af00\">0</span> (0.00 B)\n",
              "</pre>\n"
            ]
          },
          "metadata": {}
        }
      ],
      "source": [
        "inputs = tf.keras.Input(shape=(207,))\n",
        "\n",
        "embedding = tf.keras.layers.Embedding(\n",
        "    input_dim=30000,\n",
        "    output_dim=64\n",
        ")(inputs)\n",
        "\n",
        "flatten = tf.keras.layers.Flatten()(embedding)\n",
        "\n",
        "outputs = tf.keras.layers.Dense(1, activation='sigmoid')(flatten)\n",
        "\n",
        "\n",
        "model = tf.keras.Model(inputs=inputs, outputs=outputs)\n",
        "\n",
        "\n",
        "model.compile(\n",
        "    optimizer='adam',\n",
        "    loss='binary_crossentropy',\n",
        "    metrics=[\n",
        "        'accuracy',\n",
        "        tf.keras.metrics.AUC(name='auc')\n",
        "    ]\n",
        ")\n",
        "\n",
        "\n",
        "model.summary()"
      ]
    },
    {
      "cell_type": "code",
      "execution_count": 17,
      "id": "9f0f790d",
      "metadata": {
        "colab": {
          "base_uri": "https://localhost:8080/"
        },
        "id": "9f0f790d",
        "outputId": "eda857e3-6663-4735-af60-79a286a50ef8"
      },
      "outputs": [
        {
          "output_type": "stream",
          "name": "stdout",
          "text": [
            "Epoch 1/10\n",
            "\u001b[1m350/350\u001b[0m \u001b[32m━━━━━━━━━━━━━━━━━━━━\u001b[0m\u001b[37m\u001b[0m \u001b[1m7s\u001b[0m 11ms/step - accuracy: 0.6370 - auc: 0.5976 - loss: 0.6455 - val_accuracy: 0.7071 - val_auc: 0.8108 - val_loss: 0.5407\n",
            "Epoch 2/10\n",
            "\u001b[1m350/350\u001b[0m \u001b[32m━━━━━━━━━━━━━━━━━━━━\u001b[0m\u001b[37m\u001b[0m \u001b[1m1s\u001b[0m 3ms/step - accuracy: 0.8344 - auc: 0.9147 - loss: 0.4143 - val_accuracy: 0.8032 - val_auc: 0.8773 - val_loss: 0.4383\n",
            "Epoch 3/10\n",
            "\u001b[1m350/350\u001b[0m \u001b[32m━━━━━━━━━━━━━━━━━━━━\u001b[0m\u001b[37m\u001b[0m \u001b[1m1s\u001b[0m 3ms/step - accuracy: 0.9356 - auc: 0.9846 - loss: 0.2126 - val_accuracy: 0.8364 - val_auc: 0.9053 - val_loss: 0.3844\n",
            "Epoch 4/10\n",
            "\u001b[1m350/350\u001b[0m \u001b[32m━━━━━━━━━━━━━━━━━━━━\u001b[0m\u001b[37m\u001b[0m \u001b[1m1s\u001b[0m 3ms/step - accuracy: 0.9705 - auc: 0.9958 - loss: 0.1222 - val_accuracy: 0.8464 - val_auc: 0.9133 - val_loss: 0.3713\n",
            "Epoch 5/10\n",
            "\u001b[1m350/350\u001b[0m \u001b[32m━━━━━━━━━━━━━━━━━━━━\u001b[0m\u001b[37m\u001b[0m \u001b[1m1s\u001b[0m 3ms/step - accuracy: 0.9841 - auc: 0.9985 - loss: 0.0753 - val_accuracy: 0.8482 - val_auc: 0.9177 - val_loss: 0.3768\n",
            "Epoch 6/10\n",
            "\u001b[1m350/350\u001b[0m \u001b[32m━━━━━━━━━━━━━━━━━━━━\u001b[0m\u001b[37m\u001b[0m \u001b[1m1s\u001b[0m 3ms/step - accuracy: 0.9909 - auc: 0.9993 - loss: 0.0493 - val_accuracy: 0.8546 - val_auc: 0.9182 - val_loss: 0.3851\n",
            "Epoch 7/10\n",
            "\u001b[1m350/350\u001b[0m \u001b[32m━━━━━━━━━━━━━━━━━━━━\u001b[0m\u001b[37m\u001b[0m \u001b[1m1s\u001b[0m 3ms/step - accuracy: 0.9913 - auc: 0.9996 - loss: 0.0392 - val_accuracy: 0.8618 - val_auc: 0.9187 - val_loss: 0.3951\n",
            "13.208066463470459\n"
          ]
        }
      ],
      "source": [
        "start = time.time()\n",
        "history = model.fit(\n",
        "    X_train,\n",
        "    y_train,\n",
        "    validation_split=0.2,\n",
        "    batch_size=32,\n",
        "    epochs=10,\n",
        "    callbacks=[\n",
        "        tf.keras.callbacks.EarlyStopping(\n",
        "            monitor='val_loss',\n",
        "            patience=3,\n",
        "            restore_best_weights=True\n",
        "        )\n",
        "    ]\n",
        ")\n",
        "end = time.time()\n",
        "print(end-start)"
      ]
    },
    {
      "cell_type": "code",
      "execution_count": 18,
      "id": "e8baf63b",
      "metadata": {
        "colab": {
          "base_uri": "https://localhost:8080/"
        },
        "id": "e8baf63b",
        "outputId": "56b0f0e4-c7f9-4e41-d9b3-4148141c061b"
      },
      "outputs": [
        {
          "output_type": "stream",
          "name": "stdout",
          "text": [
            "\u001b[1m188/188\u001b[0m \u001b[32m━━━━━━━━━━━━━━━━━━━━\u001b[0m\u001b[37m\u001b[0m \u001b[1m1s\u001b[0m 2ms/step\n",
            "Confusion Matrix:\n",
            " [[3219  406]\n",
            " [ 527 1849]]\n",
            "Precision: 0.8199556541019956\n",
            "Recall: 0.7781986531986532\n",
            "F1 Score: 0.7985316346361477\n"
          ]
        }
      ],
      "source": [
        "y_pred = model.predict(X_test)\n",
        "y_pred_labels = y_pred.argmax(axis=1)\n",
        "y_true = y_test\n",
        "y_pred_labels = (y_pred > 0.5).astype(int)  # For binary classification, adjust if multi-class\n",
        "\n",
        "# Confusion Matrix\n",
        "cm = confusion_matrix(y_true, y_pred_labels)\n",
        "print(\"Confusion Matrix:\\n\", cm)\n",
        "\n",
        "# Precision\n",
        "precision = precision_score(y_true, y_pred_labels)\n",
        "print(\"Precision:\", precision)\n",
        "\n",
        "# Recall\n",
        "recall = recall_score(y_true, y_pred_labels)\n",
        "print(\"Recall:\", recall)\n",
        "\n",
        "# F1 Score\n",
        "f1 = f1_score(y_true, y_pred_labels)\n",
        "print(\"F1 Score:\", f1)"
      ]
    },
    {
      "cell_type": "code",
      "source": [],
      "metadata": {
        "id": "94yL8KXs-7X4"
      },
      "id": "94yL8KXs-7X4",
      "execution_count": 18,
      "outputs": []
    },
    {
      "cell_type": "code",
      "source": [],
      "metadata": {
        "id": "RnZ5VU3m-7Mq"
      },
      "id": "RnZ5VU3m-7Mq",
      "execution_count": 18,
      "outputs": []
    },
    {
      "cell_type": "code",
      "execution_count": 19,
      "id": "88474f3b",
      "metadata": {
        "colab": {
          "base_uri": "https://localhost:8080/",
          "height": 261
        },
        "id": "88474f3b",
        "outputId": "693b8c2a-08c0-4f6c-b05b-fb92cb240485"
      },
      "outputs": [
        {
          "output_type": "display_data",
          "data": {
            "text/plain": [
              "\u001b[1mModel: \"functional_1\"\u001b[0m\n"
            ],
            "text/html": [
              "<pre style=\"white-space:pre;overflow-x:auto;line-height:normal;font-family:Menlo,'DejaVu Sans Mono',consolas,'Courier New',monospace\"><span style=\"font-weight: bold\">Model: \"functional_1\"</span>\n",
              "</pre>\n"
            ]
          },
          "metadata": {}
        },
        {
          "output_type": "display_data",
          "data": {
            "text/plain": [
              "┏━━━━━━━━━━━━━━━━━━━━━━━━━━━━━━━━━━━━━━┳━━━━━━━━━━━━━━━━━━━━━━━━━━━━━┳━━━━━━━━━━━━━━━━━┓\n",
              "┃\u001b[1m \u001b[0m\u001b[1mLayer (type)                        \u001b[0m\u001b[1m \u001b[0m┃\u001b[1m \u001b[0m\u001b[1mOutput Shape               \u001b[0m\u001b[1m \u001b[0m┃\u001b[1m \u001b[0m\u001b[1m        Param #\u001b[0m\u001b[1m \u001b[0m┃\n",
              "┡━━━━━━━━━━━━━━━━━━━━━━━━━━━━━━━━━━━━━━╇━━━━━━━━━━━━━━━━━━━━━━━━━━━━━╇━━━━━━━━━━━━━━━━━┩\n",
              "│ input_layer_1 (\u001b[38;5;33mInputLayer\u001b[0m)           │ (\u001b[38;5;45mNone\u001b[0m, \u001b[38;5;34m207\u001b[0m)                 │               \u001b[38;5;34m0\u001b[0m │\n",
              "├──────────────────────────────────────┼─────────────────────────────┼─────────────────┤\n",
              "│ embedding_1 (\u001b[38;5;33mEmbedding\u001b[0m)              │ (\u001b[38;5;45mNone\u001b[0m, \u001b[38;5;34m207\u001b[0m, \u001b[38;5;34m128\u001b[0m)            │       \u001b[38;5;34m3,840,000\u001b[0m │\n",
              "├──────────────────────────────────────┼─────────────────────────────┼─────────────────┤\n",
              "│ flatten_1 (\u001b[38;5;33mFlatten\u001b[0m)                  │ (\u001b[38;5;45mNone\u001b[0m, \u001b[38;5;34m26496\u001b[0m)               │               \u001b[38;5;34m0\u001b[0m │\n",
              "├──────────────────────────────────────┼─────────────────────────────┼─────────────────┤\n",
              "│ dense_1 (\u001b[38;5;33mDense\u001b[0m)                      │ (\u001b[38;5;45mNone\u001b[0m, \u001b[38;5;34m1\u001b[0m)                   │          \u001b[38;5;34m26,497\u001b[0m │\n",
              "└──────────────────────────────────────┴─────────────────────────────┴─────────────────┘\n"
            ],
            "text/html": [
              "<pre style=\"white-space:pre;overflow-x:auto;line-height:normal;font-family:Menlo,'DejaVu Sans Mono',consolas,'Courier New',monospace\">┏━━━━━━━━━━━━━━━━━━━━━━━━━━━━━━━━━━━━━━┳━━━━━━━━━━━━━━━━━━━━━━━━━━━━━┳━━━━━━━━━━━━━━━━━┓\n",
              "┃<span style=\"font-weight: bold\"> Layer (type)                         </span>┃<span style=\"font-weight: bold\"> Output Shape                </span>┃<span style=\"font-weight: bold\">         Param # </span>┃\n",
              "┡━━━━━━━━━━━━━━━━━━━━━━━━━━━━━━━━━━━━━━╇━━━━━━━━━━━━━━━━━━━━━━━━━━━━━╇━━━━━━━━━━━━━━━━━┩\n",
              "│ input_layer_1 (<span style=\"color: #0087ff; text-decoration-color: #0087ff\">InputLayer</span>)           │ (<span style=\"color: #00d7ff; text-decoration-color: #00d7ff\">None</span>, <span style=\"color: #00af00; text-decoration-color: #00af00\">207</span>)                 │               <span style=\"color: #00af00; text-decoration-color: #00af00\">0</span> │\n",
              "├──────────────────────────────────────┼─────────────────────────────┼─────────────────┤\n",
              "│ embedding_1 (<span style=\"color: #0087ff; text-decoration-color: #0087ff\">Embedding</span>)              │ (<span style=\"color: #00d7ff; text-decoration-color: #00d7ff\">None</span>, <span style=\"color: #00af00; text-decoration-color: #00af00\">207</span>, <span style=\"color: #00af00; text-decoration-color: #00af00\">128</span>)            │       <span style=\"color: #00af00; text-decoration-color: #00af00\">3,840,000</span> │\n",
              "├──────────────────────────────────────┼─────────────────────────────┼─────────────────┤\n",
              "│ flatten_1 (<span style=\"color: #0087ff; text-decoration-color: #0087ff\">Flatten</span>)                  │ (<span style=\"color: #00d7ff; text-decoration-color: #00d7ff\">None</span>, <span style=\"color: #00af00; text-decoration-color: #00af00\">26496</span>)               │               <span style=\"color: #00af00; text-decoration-color: #00af00\">0</span> │\n",
              "├──────────────────────────────────────┼─────────────────────────────┼─────────────────┤\n",
              "│ dense_1 (<span style=\"color: #0087ff; text-decoration-color: #0087ff\">Dense</span>)                      │ (<span style=\"color: #00d7ff; text-decoration-color: #00d7ff\">None</span>, <span style=\"color: #00af00; text-decoration-color: #00af00\">1</span>)                   │          <span style=\"color: #00af00; text-decoration-color: #00af00\">26,497</span> │\n",
              "└──────────────────────────────────────┴─────────────────────────────┴─────────────────┘\n",
              "</pre>\n"
            ]
          },
          "metadata": {}
        },
        {
          "output_type": "display_data",
          "data": {
            "text/plain": [
              "\u001b[1m Total params: \u001b[0m\u001b[38;5;34m3,866,497\u001b[0m (14.75 MB)\n"
            ],
            "text/html": [
              "<pre style=\"white-space:pre;overflow-x:auto;line-height:normal;font-family:Menlo,'DejaVu Sans Mono',consolas,'Courier New',monospace\"><span style=\"font-weight: bold\"> Total params: </span><span style=\"color: #00af00; text-decoration-color: #00af00\">3,866,497</span> (14.75 MB)\n",
              "</pre>\n"
            ]
          },
          "metadata": {}
        },
        {
          "output_type": "display_data",
          "data": {
            "text/plain": [
              "\u001b[1m Trainable params: \u001b[0m\u001b[38;5;34m3,866,497\u001b[0m (14.75 MB)\n"
            ],
            "text/html": [
              "<pre style=\"white-space:pre;overflow-x:auto;line-height:normal;font-family:Menlo,'DejaVu Sans Mono',consolas,'Courier New',monospace\"><span style=\"font-weight: bold\"> Trainable params: </span><span style=\"color: #00af00; text-decoration-color: #00af00\">3,866,497</span> (14.75 MB)\n",
              "</pre>\n"
            ]
          },
          "metadata": {}
        },
        {
          "output_type": "display_data",
          "data": {
            "text/plain": [
              "\u001b[1m Non-trainable params: \u001b[0m\u001b[38;5;34m0\u001b[0m (0.00 B)\n"
            ],
            "text/html": [
              "<pre style=\"white-space:pre;overflow-x:auto;line-height:normal;font-family:Menlo,'DejaVu Sans Mono',consolas,'Courier New',monospace\"><span style=\"font-weight: bold\"> Non-trainable params: </span><span style=\"color: #00af00; text-decoration-color: #00af00\">0</span> (0.00 B)\n",
              "</pre>\n"
            ]
          },
          "metadata": {}
        }
      ],
      "source": [
        "inputs = tf.keras.Input(shape=(207,))\n",
        "\n",
        "embedding = tf.keras.layers.Embedding(\n",
        "    input_dim=30000,\n",
        "    output_dim=128\n",
        ")(inputs)\n",
        "\n",
        "flatten = tf.keras.layers.Flatten()(embedding)\n",
        "\n",
        "outputs = tf.keras.layers.Dense(1, activation='sigmoid')(flatten)\n",
        "\n",
        "\n",
        "model2 = tf.keras.Model(inputs=inputs, outputs=outputs)\n",
        "\n",
        "\n",
        "model2.compile(\n",
        "    optimizer='adam',\n",
        "    loss='binary_crossentropy',\n",
        "    metrics=[\n",
        "        'accuracy',\n",
        "        tf.keras.metrics.AUC(name='auc')\n",
        "    ]\n",
        ")\n",
        "\n",
        "\n",
        "model2.summary()"
      ]
    },
    {
      "cell_type": "code",
      "execution_count": 20,
      "id": "65235afb",
      "metadata": {
        "colab": {
          "base_uri": "https://localhost:8080/"
        },
        "id": "65235afb",
        "outputId": "4e91128e-a13e-4474-8668-971b0df8882f"
      },
      "outputs": [
        {
          "output_type": "stream",
          "name": "stdout",
          "text": [
            "Epoch 1/100\n",
            "\u001b[1m350/350\u001b[0m \u001b[32m━━━━━━━━━━━━━━━━━━━━\u001b[0m\u001b[37m\u001b[0m \u001b[1m5s\u001b[0m 9ms/step - accuracy: 0.6341 - auc: 0.6131 - loss: 0.6407 - val_accuracy: 0.7275 - val_auc: 0.8187 - val_loss: 0.5309\n",
            "Epoch 2/100\n",
            "\u001b[1m350/350\u001b[0m \u001b[32m━━━━━━━━━━━━━━━━━━━━\u001b[0m\u001b[37m\u001b[0m \u001b[1m1s\u001b[0m 3ms/step - accuracy: 0.8589 - auc: 0.9296 - loss: 0.3669 - val_accuracy: 0.8114 - val_auc: 0.8933 - val_loss: 0.4072\n",
            "Epoch 3/100\n",
            "\u001b[1m350/350\u001b[0m \u001b[32m━━━━━━━━━━━━━━━━━━━━\u001b[0m\u001b[37m\u001b[0m \u001b[1m1s\u001b[0m 3ms/step - accuracy: 0.9583 - auc: 0.9929 - loss: 0.1527 - val_accuracy: 0.8364 - val_auc: 0.9132 - val_loss: 0.3699\n",
            "Epoch 4/100\n",
            "\u001b[1m350/350\u001b[0m \u001b[32m━━━━━━━━━━━━━━━━━━━━\u001b[0m\u001b[37m\u001b[0m \u001b[1m1s\u001b[0m 3ms/step - accuracy: 0.9804 - auc: 0.9984 - loss: 0.0788 - val_accuracy: 0.8475 - val_auc: 0.9178 - val_loss: 0.3694\n",
            "Epoch 5/100\n",
            "\u001b[1m350/350\u001b[0m \u001b[32m━━━━━━━━━━━━━━━━━━━━\u001b[0m\u001b[37m\u001b[0m \u001b[1m1s\u001b[0m 3ms/step - accuracy: 0.9885 - auc: 0.9993 - loss: 0.0526 - val_accuracy: 0.8621 - val_auc: 0.9203 - val_loss: 0.3778\n",
            "Epoch 6/100\n",
            "\u001b[1m350/350\u001b[0m \u001b[32m━━━━━━━━━━━━━━━━━━━━\u001b[0m\u001b[37m\u001b[0m \u001b[1m1s\u001b[0m 3ms/step - accuracy: 0.9916 - auc: 0.9996 - loss: 0.0363 - val_accuracy: 0.8625 - val_auc: 0.9191 - val_loss: 0.4020\n",
            "Epoch 7/100\n",
            "\u001b[1m350/350\u001b[0m \u001b[32m━━━━━━━━━━━━━━━━━━━━\u001b[0m\u001b[37m\u001b[0m \u001b[1m1s\u001b[0m 3ms/step - accuracy: 0.9901 - auc: 0.9995 - loss: 0.0319 - val_accuracy: 0.8514 - val_auc: 0.9187 - val_loss: 0.4278\n",
            "12.060757160186768\n"
          ]
        }
      ],
      "source": [
        "start = time.time()\n",
        "history = model2.fit(\n",
        "    X_train,\n",
        "    y_train,\n",
        "    validation_split=0.2,\n",
        "    batch_size=32,\n",
        "    epochs=100,\n",
        "    callbacks=[\n",
        "        tf.keras.callbacks.EarlyStopping(\n",
        "            monitor='val_loss',\n",
        "            patience=3,\n",
        "            restore_best_weights=True\n",
        "        )\n",
        "    ]\n",
        ")\n",
        "\n",
        "end = time.time()\n",
        "print(end-start)"
      ]
    },
    {
      "cell_type": "code",
      "execution_count": 21,
      "id": "28caf245",
      "metadata": {
        "colab": {
          "base_uri": "https://localhost:8080/"
        },
        "id": "28caf245",
        "outputId": "91221929-a52e-4eb3-ae7a-6f7870934ef4"
      },
      "outputs": [
        {
          "output_type": "stream",
          "name": "stdout",
          "text": [
            "\u001b[1m188/188\u001b[0m \u001b[32m━━━━━━━━━━━━━━━━━━━━\u001b[0m\u001b[37m\u001b[0m \u001b[1m1s\u001b[0m 2ms/step\n",
            "Confusion Matrix:\n",
            " [[3149  476]\n",
            " [ 445 1931]]\n",
            "Precision: 0.8022434565849605\n",
            "Recall: 0.8127104377104377\n",
            "F1 Score: 0.8074430273886682\n"
          ]
        }
      ],
      "source": [
        "y_pred = model2.predict(X_test)\n",
        "y_pred_labels = y_pred.argmax(axis=1)\n",
        "y_true = y_test\n",
        "y_pred_labels = (y_pred > 0.5).astype(int)  # For binary classification, adjust if multi-class\n",
        "\n",
        "# Confusion Matrix\n",
        "cm = confusion_matrix(y_true, y_pred_labels)\n",
        "print(\"Confusion Matrix:\\n\", cm)\n",
        "\n",
        "# Precision\n",
        "precision = precision_score(y_true, y_pred_labels)\n",
        "print(\"Precision:\", precision)\n",
        "\n",
        "# Recall\n",
        "recall = recall_score(y_true, y_pred_labels)\n",
        "print(\"Recall:\", recall)\n",
        "\n",
        "# F1 Score\n",
        "f1 = f1_score(y_true, y_pred_labels)\n",
        "print(\"F1 Score:\", f1)"
      ]
    },
    {
      "cell_type": "code",
      "execution_count": 21,
      "id": "e8712bc5",
      "metadata": {
        "id": "e8712bc5"
      },
      "outputs": [],
      "source": []
    },
    {
      "cell_type": "code",
      "execution_count": 22,
      "id": "b7d9f452",
      "metadata": {
        "colab": {
          "base_uri": "https://localhost:8080/",
          "height": 392
        },
        "id": "b7d9f452",
        "outputId": "a31a91e5-5673-4e6b-ca4a-6036545d203c"
      },
      "outputs": [
        {
          "output_type": "display_data",
          "data": {
            "text/plain": [
              "\u001b[1mModel: \"functional_2\"\u001b[0m\n"
            ],
            "text/html": [
              "<pre style=\"white-space:pre;overflow-x:auto;line-height:normal;font-family:Menlo,'DejaVu Sans Mono',consolas,'Courier New',monospace\"><span style=\"font-weight: bold\">Model: \"functional_2\"</span>\n",
              "</pre>\n"
            ]
          },
          "metadata": {}
        },
        {
          "output_type": "display_data",
          "data": {
            "text/plain": [
              "┏━━━━━━━━━━━━━━━━━━━━━━━━━━━━━━━━━━━━━━┳━━━━━━━━━━━━━━━━━━━━━━━━━━━━━┳━━━━━━━━━━━━━━━━━┓\n",
              "┃\u001b[1m \u001b[0m\u001b[1mLayer (type)                        \u001b[0m\u001b[1m \u001b[0m┃\u001b[1m \u001b[0m\u001b[1mOutput Shape               \u001b[0m\u001b[1m \u001b[0m┃\u001b[1m \u001b[0m\u001b[1m        Param #\u001b[0m\u001b[1m \u001b[0m┃\n",
              "┡━━━━━━━━━━━━━━━━━━━━━━━━━━━━━━━━━━━━━━╇━━━━━━━━━━━━━━━━━━━━━━━━━━━━━╇━━━━━━━━━━━━━━━━━┩\n",
              "│ input_layer_2 (\u001b[38;5;33mInputLayer\u001b[0m)           │ (\u001b[38;5;45mNone\u001b[0m, \u001b[38;5;34m207\u001b[0m)                 │               \u001b[38;5;34m0\u001b[0m │\n",
              "├──────────────────────────────────────┼─────────────────────────────┼─────────────────┤\n",
              "│ embedding_2 (\u001b[38;5;33mEmbedding\u001b[0m)              │ (\u001b[38;5;45mNone\u001b[0m, \u001b[38;5;34m207\u001b[0m, \u001b[38;5;34m128\u001b[0m)            │       \u001b[38;5;34m3,840,000\u001b[0m │\n",
              "├──────────────────────────────────────┼─────────────────────────────┼─────────────────┤\n",
              "│ flatten_2 (\u001b[38;5;33mFlatten\u001b[0m)                  │ (\u001b[38;5;45mNone\u001b[0m, \u001b[38;5;34m26496\u001b[0m)               │               \u001b[38;5;34m0\u001b[0m │\n",
              "├──────────────────────────────────────┼─────────────────────────────┼─────────────────┤\n",
              "│ dense_2 (\u001b[38;5;33mDense\u001b[0m)                      │ (\u001b[38;5;45mNone\u001b[0m, \u001b[38;5;34m16\u001b[0m)                  │         \u001b[38;5;34m423,952\u001b[0m │\n",
              "├──────────────────────────────────────┼─────────────────────────────┼─────────────────┤\n",
              "│ dense_3 (\u001b[38;5;33mDense\u001b[0m)                      │ (\u001b[38;5;45mNone\u001b[0m, \u001b[38;5;34m64\u001b[0m)                  │           \u001b[38;5;34m1,088\u001b[0m │\n",
              "├──────────────────────────────────────┼─────────────────────────────┼─────────────────┤\n",
              "│ dense_4 (\u001b[38;5;33mDense\u001b[0m)                      │ (\u001b[38;5;45mNone\u001b[0m, \u001b[38;5;34m32\u001b[0m)                  │           \u001b[38;5;34m2,080\u001b[0m │\n",
              "├──────────────────────────────────────┼─────────────────────────────┼─────────────────┤\n",
              "│ dense_5 (\u001b[38;5;33mDense\u001b[0m)                      │ (\u001b[38;5;45mNone\u001b[0m, \u001b[38;5;34m8\u001b[0m)                   │             \u001b[38;5;34m264\u001b[0m │\n",
              "├──────────────────────────────────────┼─────────────────────────────┼─────────────────┤\n",
              "│ dense_6 (\u001b[38;5;33mDense\u001b[0m)                      │ (\u001b[38;5;45mNone\u001b[0m, \u001b[38;5;34m1\u001b[0m)                   │               \u001b[38;5;34m9\u001b[0m │\n",
              "└──────────────────────────────────────┴─────────────────────────────┴─────────────────┘\n"
            ],
            "text/html": [
              "<pre style=\"white-space:pre;overflow-x:auto;line-height:normal;font-family:Menlo,'DejaVu Sans Mono',consolas,'Courier New',monospace\">┏━━━━━━━━━━━━━━━━━━━━━━━━━━━━━━━━━━━━━━┳━━━━━━━━━━━━━━━━━━━━━━━━━━━━━┳━━━━━━━━━━━━━━━━━┓\n",
              "┃<span style=\"font-weight: bold\"> Layer (type)                         </span>┃<span style=\"font-weight: bold\"> Output Shape                </span>┃<span style=\"font-weight: bold\">         Param # </span>┃\n",
              "┡━━━━━━━━━━━━━━━━━━━━━━━━━━━━━━━━━━━━━━╇━━━━━━━━━━━━━━━━━━━━━━━━━━━━━╇━━━━━━━━━━━━━━━━━┩\n",
              "│ input_layer_2 (<span style=\"color: #0087ff; text-decoration-color: #0087ff\">InputLayer</span>)           │ (<span style=\"color: #00d7ff; text-decoration-color: #00d7ff\">None</span>, <span style=\"color: #00af00; text-decoration-color: #00af00\">207</span>)                 │               <span style=\"color: #00af00; text-decoration-color: #00af00\">0</span> │\n",
              "├──────────────────────────────────────┼─────────────────────────────┼─────────────────┤\n",
              "│ embedding_2 (<span style=\"color: #0087ff; text-decoration-color: #0087ff\">Embedding</span>)              │ (<span style=\"color: #00d7ff; text-decoration-color: #00d7ff\">None</span>, <span style=\"color: #00af00; text-decoration-color: #00af00\">207</span>, <span style=\"color: #00af00; text-decoration-color: #00af00\">128</span>)            │       <span style=\"color: #00af00; text-decoration-color: #00af00\">3,840,000</span> │\n",
              "├──────────────────────────────────────┼─────────────────────────────┼─────────────────┤\n",
              "│ flatten_2 (<span style=\"color: #0087ff; text-decoration-color: #0087ff\">Flatten</span>)                  │ (<span style=\"color: #00d7ff; text-decoration-color: #00d7ff\">None</span>, <span style=\"color: #00af00; text-decoration-color: #00af00\">26496</span>)               │               <span style=\"color: #00af00; text-decoration-color: #00af00\">0</span> │\n",
              "├──────────────────────────────────────┼─────────────────────────────┼─────────────────┤\n",
              "│ dense_2 (<span style=\"color: #0087ff; text-decoration-color: #0087ff\">Dense</span>)                      │ (<span style=\"color: #00d7ff; text-decoration-color: #00d7ff\">None</span>, <span style=\"color: #00af00; text-decoration-color: #00af00\">16</span>)                  │         <span style=\"color: #00af00; text-decoration-color: #00af00\">423,952</span> │\n",
              "├──────────────────────────────────────┼─────────────────────────────┼─────────────────┤\n",
              "│ dense_3 (<span style=\"color: #0087ff; text-decoration-color: #0087ff\">Dense</span>)                      │ (<span style=\"color: #00d7ff; text-decoration-color: #00d7ff\">None</span>, <span style=\"color: #00af00; text-decoration-color: #00af00\">64</span>)                  │           <span style=\"color: #00af00; text-decoration-color: #00af00\">1,088</span> │\n",
              "├──────────────────────────────────────┼─────────────────────────────┼─────────────────┤\n",
              "│ dense_4 (<span style=\"color: #0087ff; text-decoration-color: #0087ff\">Dense</span>)                      │ (<span style=\"color: #00d7ff; text-decoration-color: #00d7ff\">None</span>, <span style=\"color: #00af00; text-decoration-color: #00af00\">32</span>)                  │           <span style=\"color: #00af00; text-decoration-color: #00af00\">2,080</span> │\n",
              "├──────────────────────────────────────┼─────────────────────────────┼─────────────────┤\n",
              "│ dense_5 (<span style=\"color: #0087ff; text-decoration-color: #0087ff\">Dense</span>)                      │ (<span style=\"color: #00d7ff; text-decoration-color: #00d7ff\">None</span>, <span style=\"color: #00af00; text-decoration-color: #00af00\">8</span>)                   │             <span style=\"color: #00af00; text-decoration-color: #00af00\">264</span> │\n",
              "├──────────────────────────────────────┼─────────────────────────────┼─────────────────┤\n",
              "│ dense_6 (<span style=\"color: #0087ff; text-decoration-color: #0087ff\">Dense</span>)                      │ (<span style=\"color: #00d7ff; text-decoration-color: #00d7ff\">None</span>, <span style=\"color: #00af00; text-decoration-color: #00af00\">1</span>)                   │               <span style=\"color: #00af00; text-decoration-color: #00af00\">9</span> │\n",
              "└──────────────────────────────────────┴─────────────────────────────┴─────────────────┘\n",
              "</pre>\n"
            ]
          },
          "metadata": {}
        },
        {
          "output_type": "display_data",
          "data": {
            "text/plain": [
              "\u001b[1m Total params: \u001b[0m\u001b[38;5;34m4,267,393\u001b[0m (16.28 MB)\n"
            ],
            "text/html": [
              "<pre style=\"white-space:pre;overflow-x:auto;line-height:normal;font-family:Menlo,'DejaVu Sans Mono',consolas,'Courier New',monospace\"><span style=\"font-weight: bold\"> Total params: </span><span style=\"color: #00af00; text-decoration-color: #00af00\">4,267,393</span> (16.28 MB)\n",
              "</pre>\n"
            ]
          },
          "metadata": {}
        },
        {
          "output_type": "display_data",
          "data": {
            "text/plain": [
              "\u001b[1m Trainable params: \u001b[0m\u001b[38;5;34m4,267,393\u001b[0m (16.28 MB)\n"
            ],
            "text/html": [
              "<pre style=\"white-space:pre;overflow-x:auto;line-height:normal;font-family:Menlo,'DejaVu Sans Mono',consolas,'Courier New',monospace\"><span style=\"font-weight: bold\"> Trainable params: </span><span style=\"color: #00af00; text-decoration-color: #00af00\">4,267,393</span> (16.28 MB)\n",
              "</pre>\n"
            ]
          },
          "metadata": {}
        },
        {
          "output_type": "display_data",
          "data": {
            "text/plain": [
              "\u001b[1m Non-trainable params: \u001b[0m\u001b[38;5;34m0\u001b[0m (0.00 B)\n"
            ],
            "text/html": [
              "<pre style=\"white-space:pre;overflow-x:auto;line-height:normal;font-family:Menlo,'DejaVu Sans Mono',consolas,'Courier New',monospace\"><span style=\"font-weight: bold\"> Non-trainable params: </span><span style=\"color: #00af00; text-decoration-color: #00af00\">0</span> (0.00 B)\n",
              "</pre>\n"
            ]
          },
          "metadata": {}
        }
      ],
      "source": [
        "inputs = tf.keras.Input(shape=(207,))\n",
        "\n",
        "embedding = tf.keras.layers.Embedding(\n",
        "    input_dim=30000,\n",
        "    output_dim=128\n",
        ")(inputs)\n",
        "\n",
        "flatten = tf.keras.layers.Flatten()(embedding)\n",
        "\n",
        "outputs1 = tf.keras.layers.Dense(16, activation='tanh')(flatten)\n",
        "# outputs2 = tf.keras.layers.Dense(32, activation='tanh')(outputs1)\n",
        "outputs3 = tf.keras.layers.Dense(64, activation='tanh')(outputs1)\n",
        "outputs4 = tf.keras.layers.Dense(32, activation='tanh')(outputs3)\n",
        "outputs5 = tf.keras.layers.Dense(8, activation='tanh')(outputs4)\n",
        "outputs = tf.keras.layers.Dense(1, activation='sigmoid')(outputs5)\n",
        "\n",
        "\n",
        "\n",
        "model3 = tf.keras.Model(inputs=inputs, outputs=outputs)\n",
        "\n",
        "\n",
        "model3.compile(\n",
        "    optimizer='adam',\n",
        "    loss='binary_crossentropy',\n",
        "    metrics=[\n",
        "        'accuracy',\n",
        "        tf.keras.metrics.AUC(name='auc')\n",
        "    ]\n",
        ")\n",
        "\n",
        "\n",
        "model3.summary()"
      ]
    },
    {
      "cell_type": "code",
      "execution_count": 23,
      "id": "e35f41be",
      "metadata": {
        "colab": {
          "base_uri": "https://localhost:8080/"
        },
        "id": "e35f41be",
        "outputId": "006e3444-4cd3-4e23-d5e3-87f33b86ce1b"
      },
      "outputs": [
        {
          "output_type": "stream",
          "name": "stdout",
          "text": [
            "Epoch 1/12\n",
            "\u001b[1m350/350\u001b[0m \u001b[32m━━━━━━━━━━━━━━━━━━━━\u001b[0m\u001b[37m\u001b[0m \u001b[1m9s\u001b[0m 8ms/step - accuracy: 0.6160 - auc: 0.5017 - loss: 0.6684 - val_accuracy: 0.5932 - val_auc: 0.5000 - val_loss: 0.6758\n",
            "Epoch 2/12\n",
            "\u001b[1m350/350\u001b[0m \u001b[32m━━━━━━━━━━━━━━━━━━━━\u001b[0m\u001b[37m\u001b[0m \u001b[1m5s\u001b[0m 3ms/step - accuracy: 0.6204 - auc: 0.5038 - loss: 0.6643 - val_accuracy: 0.5932 - val_auc: 0.5000 - val_loss: 0.6760\n",
            "Epoch 3/12\n",
            "\u001b[1m350/350\u001b[0m \u001b[32m━━━━━━━━━━━━━━━━━━━━\u001b[0m\u001b[37m\u001b[0m \u001b[1m1s\u001b[0m 3ms/step - accuracy: 0.6104 - auc: 0.4921 - loss: 0.6688 - val_accuracy: 0.5932 - val_auc: 0.5000 - val_loss: 0.6761\n",
            "Epoch 4/12\n",
            "\u001b[1m350/350\u001b[0m \u001b[32m━━━━━━━━━━━━━━━━━━━━\u001b[0m\u001b[37m\u001b[0m \u001b[1m1s\u001b[0m 3ms/step - accuracy: 0.6160 - auc: 0.4904 - loss: 0.6664 - val_accuracy: 0.5932 - val_auc: 0.5000 - val_loss: 0.6765\n",
            "16.263482332229614\n"
          ]
        }
      ],
      "source": [
        "start = time.time()\n",
        "history = model3.fit(\n",
        "    X_train,\n",
        "    y_train,\n",
        "    validation_split=0.2,\n",
        "    batch_size=32,\n",
        "    epochs=12,\n",
        "    callbacks=[\n",
        "        tf.keras.callbacks.EarlyStopping(\n",
        "            monitor='val_loss',\n",
        "            patience=3,\n",
        "            restore_best_weights=True\n",
        "        )\n",
        "    ]\n",
        ")\n",
        "end = time.time()\n",
        "print(end-start)"
      ]
    },
    {
      "cell_type": "code",
      "source": [
        "y_pred = model.predict(X_test)\n",
        "y_pred_labels = y_pred.argmax(axis=1)\n",
        "y_true = y_test\n",
        "y_pred_labels = (y_pred > 0.5).astype(int)\n",
        "\n",
        "\n",
        "cm = confusion_matrix(y_true, y_pred_labels)\n",
        "print(\"Confusion Matrix:\\n\", cm)\n",
        "\n",
        "\n",
        "precision = precision_score(y_true, y_pred_labels)\n",
        "print(\"Precision:\", precision)\n",
        "\n",
        "\n",
        "recall = recall_score(y_true, y_pred_labels)\n",
        "print(\"Recall:\", recall)\n",
        "\n",
        "\n",
        "f1 = f1_score(y_true, y_pred_labels)\n",
        "print(\"F1 Score:\", f1)"
      ],
      "metadata": {
        "colab": {
          "base_uri": "https://localhost:8080/"
        },
        "id": "eL5wS1xJASoV",
        "outputId": "a5e09609-f6e1-49ee-c6e0-877293693bcd"
      },
      "id": "eL5wS1xJASoV",
      "execution_count": 24,
      "outputs": [
        {
          "output_type": "stream",
          "name": "stdout",
          "text": [
            "\u001b[1m188/188\u001b[0m \u001b[32m━━━━━━━━━━━━━━━━━━━━\u001b[0m\u001b[37m\u001b[0m \u001b[1m0s\u001b[0m 2ms/step\n",
            "Confusion Matrix:\n",
            " [[3219  406]\n",
            " [ 527 1849]]\n",
            "Precision: 0.8199556541019956\n",
            "Recall: 0.7781986531986532\n",
            "F1 Score: 0.7985316346361477\n"
          ]
        }
      ]
    },
    {
      "cell_type": "code",
      "source": [],
      "metadata": {
        "id": "JwaDQ-cFAs79"
      },
      "id": "JwaDQ-cFAs79",
      "execution_count": 24,
      "outputs": []
    },
    {
      "cell_type": "code",
      "source": [],
      "metadata": {
        "id": "_z4kE4b-As5f"
      },
      "id": "_z4kE4b-As5f",
      "execution_count": 24,
      "outputs": []
    },
    {
      "cell_type": "code",
      "source": [
        "import tensorflow as tf\n",
        "\n",
        "class FCLayer(tf.keras.layers.Layer):\n",
        "    def __init__(self, units, activation=None, use_bias=True, dropout_rate=0.0, batch_norm=False, order=\"LABDN\", **kwargs):\n",
        "        super(FCLayer, self).__init__(**kwargs)\n",
        "        self.units = units\n",
        "        self.activation = activation\n",
        "        self.use_bias = use_bias\n",
        "        self.dropout_rate = dropout_rate\n",
        "        self.batch_norm = batch_norm\n",
        "        self.order = order\n",
        "\n",
        "        self.dense = tf.keras.layers.Dense(self.units, use_bias=self.use_bias)\n",
        "        if self.activation:\n",
        "            self.activation_fn = tf.keras.layers.Activation(self.activation)\n",
        "        else:\n",
        "            self.activation_fn = None\n",
        "\n",
        "        if self.batch_norm:\n",
        "            self.batch_norm_layer = tf.keras.layers.BatchNormalization()\n",
        "\n",
        "        if self.dropout_rate > 0:\n",
        "            self.dropout = tf.keras.layers.Dropout(self.dropout_rate)\n",
        "\n",
        "        self.normalization_layer = tf.keras.layers.Lambda(lambda x: tf.math.l2_normalize(x, axis=1))\n",
        "\n",
        "    def call(self, inputs, training=False):\n",
        "        x = inputs\n",
        "\n",
        "        for layer_code in self.order:\n",
        "            if layer_code == 'L':\n",
        "                x = self.dense(x)\n",
        "            elif layer_code == 'A' and self.activation_fn:\n",
        "                x = self.activation_fn(x)\n",
        "            elif layer_code == 'B' and self.batch_norm:\n",
        "                x = self.batch_norm_layer(x, training=training)\n",
        "            elif layer_code == 'D' and self.dropout_rate > 0:\n",
        "                x = self.dropout(x, training=training)\n",
        "            elif layer_code == 'N':\n",
        "                x = self.normalization_layer(x)\n",
        "\n",
        "        return x\n",
        "\n",
        "def build_backbone():\n",
        "    inputs = tf.keras.Input(shape=(207,))\n",
        "    embedding = tf.keras.layers.Embedding(input_dim=30000, output_dim=128)(inputs)\n",
        "    flatten = tf.keras.layers.Flatten()(embedding)\n",
        "    return inputs, flatten\n",
        "\n",
        "class SigmoidHead(tf.keras.layers.Layer):\n",
        "    def __init__(self, units):\n",
        "        super(SigmoidHead, self).__init__()\n",
        "        self.dense = tf.keras.layers.Dense(units)\n",
        "        self.sigmoid = tf.keras.layers.Activation('sigmoid')\n",
        "\n",
        "    def call(self, inputs):\n",
        "        x = self.dense(inputs)\n",
        "        return self.sigmoid(x)\n",
        "\n",
        "def build_model():\n",
        "    inputs, backbone_output = build_backbone()\n",
        "\n",
        "    adapter = FCLayer(units=256, activation='relu', batch_norm=True, dropout_rate=0.3, order=\"LABDN\")(backbone_output)\n",
        "\n",
        "    outputs = SigmoidHead(units=1)(adapter)\n",
        "\n",
        "    model = tf.keras.Model(inputs=inputs, outputs=outputs)\n",
        "    return model\n",
        "\n",
        "model4 = build_model()\n",
        "\n",
        "model4.compile(\n",
        "    optimizer='adam',\n",
        "    loss='binary_crossentropy',\n",
        "    metrics=['accuracy', tf.keras.metrics.AUC(name='auc')]\n",
        ")\n",
        "\n",
        "model4.summary()\n"
      ],
      "metadata": {
        "id": "ylEND-JDAs1w",
        "colab": {
          "base_uri": "https://localhost:8080/",
          "height": 294
        },
        "outputId": "2c6385b3-756d-4448-9816-8db93dd6dba4"
      },
      "id": "ylEND-JDAs1w",
      "execution_count": 48,
      "outputs": [
        {
          "output_type": "display_data",
          "data": {
            "text/plain": [
              "\u001b[1mModel: \"functional_12\"\u001b[0m\n"
            ],
            "text/html": [
              "<pre style=\"white-space:pre;overflow-x:auto;line-height:normal;font-family:Menlo,'DejaVu Sans Mono',consolas,'Courier New',monospace\"><span style=\"font-weight: bold\">Model: \"functional_12\"</span>\n",
              "</pre>\n"
            ]
          },
          "metadata": {}
        },
        {
          "output_type": "display_data",
          "data": {
            "text/plain": [
              "┏━━━━━━━━━━━━━━━━━━━━━━━━━━━━━━━━━━━━━━┳━━━━━━━━━━━━━━━━━━━━━━━━━━━━━┳━━━━━━━━━━━━━━━━━┓\n",
              "┃\u001b[1m \u001b[0m\u001b[1mLayer (type)                        \u001b[0m\u001b[1m \u001b[0m┃\u001b[1m \u001b[0m\u001b[1mOutput Shape               \u001b[0m\u001b[1m \u001b[0m┃\u001b[1m \u001b[0m\u001b[1m        Param #\u001b[0m\u001b[1m \u001b[0m┃\n",
              "┡━━━━━━━━━━━━━━━━━━━━━━━━━━━━━━━━━━━━━━╇━━━━━━━━━━━━━━━━━━━━━━━━━━━━━╇━━━━━━━━━━━━━━━━━┩\n",
              "│ input_layer_12 (\u001b[38;5;33mInputLayer\u001b[0m)          │ (\u001b[38;5;45mNone\u001b[0m, \u001b[38;5;34m207\u001b[0m)                 │               \u001b[38;5;34m0\u001b[0m │\n",
              "├──────────────────────────────────────┼─────────────────────────────┼─────────────────┤\n",
              "│ embedding_12 (\u001b[38;5;33mEmbedding\u001b[0m)             │ (\u001b[38;5;45mNone\u001b[0m, \u001b[38;5;34m207\u001b[0m, \u001b[38;5;34m128\u001b[0m)            │       \u001b[38;5;34m3,840,000\u001b[0m │\n",
              "├──────────────────────────────────────┼─────────────────────────────┼─────────────────┤\n",
              "│ flatten_12 (\u001b[38;5;33mFlatten\u001b[0m)                 │ (\u001b[38;5;45mNone\u001b[0m, \u001b[38;5;34m26496\u001b[0m)               │               \u001b[38;5;34m0\u001b[0m │\n",
              "├──────────────────────────────────────┼─────────────────────────────┼─────────────────┤\n",
              "│ fc_layer_14 (\u001b[38;5;33mFCLayer\u001b[0m)                │ (\u001b[38;5;45mNone\u001b[0m, \u001b[38;5;34m256\u001b[0m)                 │       \u001b[38;5;34m6,784,256\u001b[0m │\n",
              "├──────────────────────────────────────┼─────────────────────────────┼─────────────────┤\n",
              "│ sigmoid_head_9 (\u001b[38;5;33mSigmoidHead\u001b[0m)         │ (\u001b[38;5;45mNone\u001b[0m, \u001b[38;5;34m1\u001b[0m)                   │             \u001b[38;5;34m257\u001b[0m │\n",
              "└──────────────────────────────────────┴─────────────────────────────┴─────────────────┘\n"
            ],
            "text/html": [
              "<pre style=\"white-space:pre;overflow-x:auto;line-height:normal;font-family:Menlo,'DejaVu Sans Mono',consolas,'Courier New',monospace\">┏━━━━━━━━━━━━━━━━━━━━━━━━━━━━━━━━━━━━━━┳━━━━━━━━━━━━━━━━━━━━━━━━━━━━━┳━━━━━━━━━━━━━━━━━┓\n",
              "┃<span style=\"font-weight: bold\"> Layer (type)                         </span>┃<span style=\"font-weight: bold\"> Output Shape                </span>┃<span style=\"font-weight: bold\">         Param # </span>┃\n",
              "┡━━━━━━━━━━━━━━━━━━━━━━━━━━━━━━━━━━━━━━╇━━━━━━━━━━━━━━━━━━━━━━━━━━━━━╇━━━━━━━━━━━━━━━━━┩\n",
              "│ input_layer_12 (<span style=\"color: #0087ff; text-decoration-color: #0087ff\">InputLayer</span>)          │ (<span style=\"color: #00d7ff; text-decoration-color: #00d7ff\">None</span>, <span style=\"color: #00af00; text-decoration-color: #00af00\">207</span>)                 │               <span style=\"color: #00af00; text-decoration-color: #00af00\">0</span> │\n",
              "├──────────────────────────────────────┼─────────────────────────────┼─────────────────┤\n",
              "│ embedding_12 (<span style=\"color: #0087ff; text-decoration-color: #0087ff\">Embedding</span>)             │ (<span style=\"color: #00d7ff; text-decoration-color: #00d7ff\">None</span>, <span style=\"color: #00af00; text-decoration-color: #00af00\">207</span>, <span style=\"color: #00af00; text-decoration-color: #00af00\">128</span>)            │       <span style=\"color: #00af00; text-decoration-color: #00af00\">3,840,000</span> │\n",
              "├──────────────────────────────────────┼─────────────────────────────┼─────────────────┤\n",
              "│ flatten_12 (<span style=\"color: #0087ff; text-decoration-color: #0087ff\">Flatten</span>)                 │ (<span style=\"color: #00d7ff; text-decoration-color: #00d7ff\">None</span>, <span style=\"color: #00af00; text-decoration-color: #00af00\">26496</span>)               │               <span style=\"color: #00af00; text-decoration-color: #00af00\">0</span> │\n",
              "├──────────────────────────────────────┼─────────────────────────────┼─────────────────┤\n",
              "│ fc_layer_14 (<span style=\"color: #0087ff; text-decoration-color: #0087ff\">FCLayer</span>)                │ (<span style=\"color: #00d7ff; text-decoration-color: #00d7ff\">None</span>, <span style=\"color: #00af00; text-decoration-color: #00af00\">256</span>)                 │       <span style=\"color: #00af00; text-decoration-color: #00af00\">6,784,256</span> │\n",
              "├──────────────────────────────────────┼─────────────────────────────┼─────────────────┤\n",
              "│ sigmoid_head_9 (<span style=\"color: #0087ff; text-decoration-color: #0087ff\">SigmoidHead</span>)         │ (<span style=\"color: #00d7ff; text-decoration-color: #00d7ff\">None</span>, <span style=\"color: #00af00; text-decoration-color: #00af00\">1</span>)                   │             <span style=\"color: #00af00; text-decoration-color: #00af00\">257</span> │\n",
              "└──────────────────────────────────────┴─────────────────────────────┴─────────────────┘\n",
              "</pre>\n"
            ]
          },
          "metadata": {}
        },
        {
          "output_type": "display_data",
          "data": {
            "text/plain": [
              "\u001b[1m Total params: \u001b[0m\u001b[38;5;34m10,624,513\u001b[0m (40.53 MB)\n"
            ],
            "text/html": [
              "<pre style=\"white-space:pre;overflow-x:auto;line-height:normal;font-family:Menlo,'DejaVu Sans Mono',consolas,'Courier New',monospace\"><span style=\"font-weight: bold\"> Total params: </span><span style=\"color: #00af00; text-decoration-color: #00af00\">10,624,513</span> (40.53 MB)\n",
              "</pre>\n"
            ]
          },
          "metadata": {}
        },
        {
          "output_type": "display_data",
          "data": {
            "text/plain": [
              "\u001b[1m Trainable params: \u001b[0m\u001b[38;5;34m10,624,001\u001b[0m (40.53 MB)\n"
            ],
            "text/html": [
              "<pre style=\"white-space:pre;overflow-x:auto;line-height:normal;font-family:Menlo,'DejaVu Sans Mono',consolas,'Courier New',monospace\"><span style=\"font-weight: bold\"> Trainable params: </span><span style=\"color: #00af00; text-decoration-color: #00af00\">10,624,001</span> (40.53 MB)\n",
              "</pre>\n"
            ]
          },
          "metadata": {}
        },
        {
          "output_type": "display_data",
          "data": {
            "text/plain": [
              "\u001b[1m Non-trainable params: \u001b[0m\u001b[38;5;34m512\u001b[0m (2.00 KB)\n"
            ],
            "text/html": [
              "<pre style=\"white-space:pre;overflow-x:auto;line-height:normal;font-family:Menlo,'DejaVu Sans Mono',consolas,'Courier New',monospace\"><span style=\"font-weight: bold\"> Non-trainable params: </span><span style=\"color: #00af00; text-decoration-color: #00af00\">512</span> (2.00 KB)\n",
              "</pre>\n"
            ]
          },
          "metadata": {}
        }
      ]
    },
    {
      "cell_type": "code",
      "source": [
        "start = time.time()\n",
        "history = model4.fit(\n",
        "    X_train, y_train,\n",
        "    epochs=3,\n",
        "    batch_size=64,\n",
        "    validation_data=(X_test, y_test)\n",
        ")\n",
        "end = time.time()\n",
        "print(end-start)"
      ],
      "metadata": {
        "id": "gEUbzg_5Asze",
        "colab": {
          "base_uri": "https://localhost:8080/"
        },
        "outputId": "52874090-cce8-46ed-e7cb-352b815fee8a"
      },
      "id": "gEUbzg_5Asze",
      "execution_count": 49,
      "outputs": [
        {
          "output_type": "stream",
          "name": "stdout",
          "text": [
            "Epoch 1/3\n",
            "\u001b[1m157/157\u001b[0m \u001b[32m━━━━━━━━━━━━━━━━━━━━\u001b[0m\u001b[37m\u001b[0m \u001b[1m7s\u001b[0m 24ms/step - accuracy: 0.4971 - auc: 0.5011 - loss: 0.7004 - val_accuracy: 0.6036 - val_auc: 0.5167 - val_loss: 0.6710\n",
            "Epoch 2/3\n",
            "\u001b[1m157/157\u001b[0m \u001b[32m━━━━━━━━━━━━━━━━━━━━\u001b[0m\u001b[37m\u001b[0m \u001b[1m6s\u001b[0m 7ms/step - accuracy: 0.9955 - auc: 0.9997 - loss: 0.3207 - val_accuracy: 0.6032 - val_auc: 0.5159 - val_loss: 0.8855\n",
            "Epoch 3/3\n",
            "\u001b[1m157/157\u001b[0m \u001b[32m━━━━━━━━━━━━━━━━━━━━\u001b[0m\u001b[37m\u001b[0m \u001b[1m1s\u001b[0m 5ms/step - accuracy: 1.0000 - auc: 1.0000 - loss: 0.0527 - val_accuracy: 0.6032 - val_auc: 0.5163 - val_loss: 0.8072\n",
            "13.997915506362915\n"
          ]
        }
      ]
    },
    {
      "cell_type": "code",
      "source": [
        "y_pred = model4.predict(X_test)\n",
        "y_pred_labels = y_pred.argmax(axis=1)\n",
        "y_true = y_test\n",
        "y_pred_labels = (y_pred > 0.5).astype(int)\n",
        "\n",
        "cm = confusion_matrix(y_true, y_pred_labels)\n",
        "print(\"Confusion Matrix:\\n\", cm)\n",
        "\n",
        "from sklearn.metrics import accuracy_score\n",
        "val_accuracy_sklearn = accuracy_score(y_test, y_pred_labels)\n",
        "print(f'Scikit-learn Validation Accuracy: {val_accuracy_sklearn:.4f}')\n",
        "\n",
        "precision = precision_score(y_true, y_pred_labels)\n",
        "print(\"Precision:\", precision)\n",
        "\n",
        "recall = recall_score(y_true, y_pred_labels)\n",
        "print(\"Recall:\", recall)\n",
        "\n",
        "f1 = f1_score(y_true, y_pred_labels)\n",
        "print(\"F1 Score:\", f1)"
      ],
      "metadata": {
        "id": "M-qpp669Asxk",
        "colab": {
          "base_uri": "https://localhost:8080/"
        },
        "outputId": "d7a104c9-e3c4-4b0f-db7d-359d2f51d35c"
      },
      "id": "M-qpp669Asxk",
      "execution_count": 46,
      "outputs": [
        {
          "output_type": "stream",
          "name": "stdout",
          "text": [
            "\u001b[1m188/188\u001b[0m \u001b[32m━━━━━━━━━━━━━━━━━━━━\u001b[0m\u001b[37m\u001b[0m \u001b[1m1s\u001b[0m 2ms/step\n",
            "Confusion Matrix:\n",
            " [[   3 3622]\n",
            " [   0 2376]]\n",
            "Scikit-learn Validation Accuracy: 0.3964\n",
            "Precision: 0.39613204401467156\n",
            "Recall: 1.0\n",
            "F1 Score: 0.5674707427752568\n"
          ]
        }
      ]
    },
    {
      "cell_type": "code",
      "execution_count": 25,
      "id": "4358a04b",
      "metadata": {
        "id": "4358a04b"
      },
      "outputs": [],
      "source": []
    },
    {
      "cell_type": "code",
      "execution_count": 25,
      "id": "f0b7096b",
      "metadata": {
        "id": "f0b7096b"
      },
      "outputs": [],
      "source": []
    },
    {
      "cell_type": "code",
      "source": [
        "import tensorflow as tf\n",
        "from tensorflow.keras.preprocessing.text import Tokenizer\n",
        "from tensorflow.keras.preprocessing.sequence import pad_sequences\n",
        "from sklearn.model_selection import train_test_split\n",
        "from sklearn.metrics import classification_report\n",
        "import pandas as pd\n",
        "\n",
        "\n",
        "data = pd.read_csv(\"/content/drive/MyDrive/bully_blocker/data.csv\")\n",
        "\n",
        "max_words = 10000\n",
        "max_len = 100\n",
        "\n",
        "X = data['comments'].values\n",
        "y = data['tagging'].values\n",
        "X_train, X_test, y_train, y_test = train_test_split(X, y, test_size=0.2, random_state=42)\n",
        "\n",
        "tokenizer = Tokenizer(num_words=max_words)\n",
        "tokenizer.fit_on_texts(X_train)\n",
        "X_train_seq = tokenizer.texts_to_sequences(X_train)\n",
        "X_test_seq = tokenizer.texts_to_sequences(X_test)\n",
        "\n",
        "X_train_padded = pad_sequences(X_train_seq, maxlen=max_len)\n",
        "X_test_padded = pad_sequences(X_test_seq, maxlen=max_len)\n",
        "\n",
        "model = tf.keras.Sequential([\n",
        "    tf.keras.layers.Embedding(max_words, 128, input_length=max_len),\n",
        "    tf.keras.layers.LSTM(64, return_sequences=True),\n",
        "    tf.keras.layers.GlobalMaxPooling1D(),\n",
        "    tf.keras.layers.Dense(64, activation='relu'),\n",
        "    tf.keras.layers.Dense(1, activation='sigmoid')\n",
        "])\n",
        "\n",
        "model.compile(optimizer='adam',\n",
        "              loss='binary_crossentropy',\n",
        "              metrics=['accuracy',\n",
        "                       tf.keras.metrics.Precision(),\n",
        "                       tf.keras.metrics.Recall()])\n",
        "\n",
        "history = model.fit(X_train_padded, y_train, epochs=8, batch_size=32, validation_split=0.2)\n",
        "\n",
        "\n",
        "test_loss, test_acc, test_precision, test_recall = model.evaluate(X_test_padded, y_test)\n",
        "\n",
        "\n",
        "test_f1 = 2 * (test_precision * test_recall) / (test_precision + test_recall)\n",
        "\n",
        "print(f\"Test Loss: {test_loss}\")\n",
        "print(f\"Test Accuracy: {test_acc}\")\n",
        "print(f\"Test Precision: {test_precision}\")\n",
        "print(f\"Test Recall: {test_recall}\")\n",
        "print(f\"Test F1 Score: {test_f1}\")\n",
        "\n",
        "\n",
        "y_pred_prob = model.predict(X_test_padded)\n",
        "y_pred = (y_pred_prob > 0.5).astype(\"int32\")\n",
        "\n",
        "\n",
        "print(classification_report(y_test, y_pred))\n"
      ],
      "metadata": {
        "colab": {
          "base_uri": "https://localhost:8080/"
        },
        "id": "95MlxEmZ8ozu",
        "outputId": "b9829a16-cd5e-4aed-d9bc-34049bc41f11"
      },
      "id": "95MlxEmZ8ozu",
      "execution_count": 53,
      "outputs": [
        {
          "output_type": "stream",
          "name": "stdout",
          "text": [
            "Epoch 1/8\n"
          ]
        },
        {
          "output_type": "stream",
          "name": "stderr",
          "text": [
            "/usr/local/lib/python3.10/dist-packages/keras/src/layers/core/embedding.py:90: UserWarning: Argument `input_length` is deprecated. Just remove it.\n",
            "  warnings.warn(\n"
          ]
        },
        {
          "output_type": "stream",
          "name": "stdout",
          "text": [
            "\u001b[1m400/400\u001b[0m \u001b[32m━━━━━━━━━━━━━━━━━━━━\u001b[0m\u001b[37m\u001b[0m \u001b[1m8s\u001b[0m 10ms/step - accuracy: 0.6505 - loss: 0.6096 - precision: 0.5722 - recall: 0.2584 - val_accuracy: 0.7644 - val_loss: 0.4655 - val_precision: 0.6531 - val_recall: 0.8242\n",
            "Epoch 2/8\n",
            "\u001b[1m400/400\u001b[0m \u001b[32m━━━━━━━━━━━━━━━━━━━━\u001b[0m\u001b[37m\u001b[0m \u001b[1m5s\u001b[0m 11ms/step - accuracy: 0.8485 - loss: 0.3430 - precision: 0.7985 - recall: 0.8193 - val_accuracy: 0.8284 - val_loss: 0.4025 - val_precision: 0.8047 - val_recall: 0.7307\n",
            "Epoch 3/8\n",
            "\u001b[1m400/400\u001b[0m \u001b[32m━━━━━━━━━━━━━━━━━━━━\u001b[0m\u001b[37m\u001b[0m \u001b[1m4s\u001b[0m 8ms/step - accuracy: 0.9316 - loss: 0.1846 - precision: 0.9150 - recall: 0.9142 - val_accuracy: 0.8547 - val_loss: 0.4044 - val_precision: 0.7912 - val_recall: 0.8446\n",
            "Epoch 4/8\n",
            "\u001b[1m400/400\u001b[0m \u001b[32m━━━━━━━━━━━━━━━━━━━━\u001b[0m\u001b[37m\u001b[0m \u001b[1m5s\u001b[0m 8ms/step - accuracy: 0.9604 - loss: 0.1124 - precision: 0.9467 - recall: 0.9531 - val_accuracy: 0.8553 - val_loss: 0.4718 - val_precision: 0.7845 - val_recall: 0.8592\n",
            "Epoch 5/8\n",
            "\u001b[1m400/400\u001b[0m \u001b[32m━━━━━━━━━━━━━━━━━━━━\u001b[0m\u001b[37m\u001b[0m \u001b[1m6s\u001b[0m 10ms/step - accuracy: 0.9746 - loss: 0.0784 - precision: 0.9670 - recall: 0.9676 - val_accuracy: 0.8744 - val_loss: 0.4943 - val_precision: 0.8111 - val_recall: 0.8771\n",
            "Epoch 6/8\n",
            "\u001b[1m400/400\u001b[0m \u001b[32m━━━━━━━━━━━━━━━━━━━━\u001b[0m\u001b[37m\u001b[0m \u001b[1m4s\u001b[0m 8ms/step - accuracy: 0.9839 - loss: 0.0541 - precision: 0.9783 - recall: 0.9810 - val_accuracy: 0.8744 - val_loss: 0.5948 - val_precision: 0.8233 - val_recall: 0.8568\n",
            "Epoch 7/8\n",
            "\u001b[1m400/400\u001b[0m \u001b[32m━━━━━━━━━━━━━━━━━━━━\u001b[0m\u001b[37m\u001b[0m \u001b[1m3s\u001b[0m 8ms/step - accuracy: 0.9861 - loss: 0.0413 - precision: 0.9808 - recall: 0.9833 - val_accuracy: 0.8619 - val_loss: 0.7127 - val_precision: 0.7841 - val_recall: 0.8836\n",
            "Epoch 8/8\n",
            "\u001b[1m400/400\u001b[0m \u001b[32m━━━━━━━━━━━━━━━━━━━━\u001b[0m\u001b[37m\u001b[0m \u001b[1m4s\u001b[0m 9ms/step - accuracy: 0.9881 - loss: 0.0318 - precision: 0.9836 - recall: 0.9864 - val_accuracy: 0.8644 - val_loss: 0.7109 - val_precision: 0.7883 - val_recall: 0.8845\n",
            "\u001b[1m126/126\u001b[0m \u001b[32m━━━━━━━━━━━━━━━━━━━━\u001b[0m\u001b[37m\u001b[0m \u001b[1m2s\u001b[0m 5ms/step - accuracy: 0.8655 - loss: 0.7122 - precision: 0.7913 - recall: 0.8912\n",
            "Test Loss: 0.6712771654129028\n",
            "Test Accuracy: 0.8707823157310486\n",
            "Test Precision: 0.8014789819717407\n",
            "Test Recall: 0.8934686183929443\n",
            "Test F1 Score: 0.8449775303250665\n",
            "\u001b[1m126/126\u001b[0m \u001b[32m━━━━━━━━━━━━━━━━━━━━\u001b[0m\u001b[37m\u001b[0m \u001b[1m1s\u001b[0m 4ms/step\n",
            "              precision    recall  f1-score   support\n",
            "\n",
            "           0       0.93      0.86      0.89      2424\n",
            "           1       0.80      0.89      0.84      1577\n",
            "\n",
            "    accuracy                           0.87      4001\n",
            "   macro avg       0.86      0.87      0.87      4001\n",
            "weighted avg       0.88      0.87      0.87      4001\n",
            "\n"
          ]
        }
      ]
    },
    {
      "cell_type": "code",
      "source": [],
      "metadata": {
        "id": "mdS8H3kc9PrG"
      },
      "id": "mdS8H3kc9PrG",
      "execution_count": null,
      "outputs": []
    },
    {
      "cell_type": "code",
      "source": [],
      "metadata": {
        "id": "UPuAyajJ94kn"
      },
      "id": "UPuAyajJ94kn",
      "execution_count": null,
      "outputs": []
    },
    {
      "cell_type": "code",
      "source": [
        "import tensorflow as tf\n",
        "from tensorflow.keras.preprocessing.text import Tokenizer\n",
        "from tensorflow.keras.preprocessing.sequence import pad_sequences\n",
        "from sklearn.model_selection import train_test_split\n",
        "from sklearn.metrics import classification_report\n",
        "import pandas as pd\n",
        "\n",
        "data = pd.read_csv(\"/content/drive/MyDrive/bully_blocker/data.csv\")\n",
        "\n",
        "max_words = 10000\n",
        "max_len = 100\n",
        "\n",
        "X = data['comments'].values\n",
        "y = data['tagging'].values\n",
        "X_train, X_test, y_train, y_test = train_test_split(X, y, test_size=0.2, random_state=42)\n",
        "\n",
        "tokenizer = Tokenizer(num_words=max_words)\n",
        "tokenizer.fit_on_texts(X_train)\n",
        "X_train_seq = tokenizer.texts_to_sequences(X_train)\n",
        "X_test_seq = tokenizer.texts_to_sequences(X_test)\n",
        "\n",
        "X_train_padded = pad_sequences(X_train_seq, maxlen=max_len)\n",
        "X_test_padded = pad_sequences(X_test_seq, maxlen=max_len)\n",
        "\n",
        "def evaluate_model(model, X_test, y_test):\n",
        "    test_loss, test_acc, test_precision, test_recall = model.evaluate(X_test, y_test)\n",
        "    test_f1 = 2 * (test_precision * test_recall) / (test_precision + test_recall)\n",
        "\n",
        "    print(f\"Test Loss: {test_loss}\")\n",
        "    print(f\"Test Accuracy: {test_acc}\")\n",
        "    print(f\"Test Precision: {test_precision}\")\n",
        "    print(f\"Test Recall: {test_recall}\")\n",
        "    print(f\"Test F1 Score: {test_f1}\")\n",
        "\n",
        "    y_pred_prob = model.predict(X_test)\n",
        "    y_pred = (y_pred_prob > 0.5).astype(\"int32\")\n",
        "    print(classification_report(y_test, y_pred))\n",
        "\n",
        "# Model 1: RNN\n",
        "def build_model_rnn():\n",
        "    model = tf.keras.Sequential([\n",
        "        tf.keras.layers.Embedding(max_words, 128, input_length=max_len),\n",
        "        tf.keras.layers.SimpleRNN(64),\n",
        "        tf.keras.layers.Dense(1, activation='sigmoid')\n",
        "    ])\n",
        "    model.compile(optimizer='adam', loss='binary_crossentropy', metrics=['accuracy',\n",
        "                                                                       tf.keras.metrics.Precision(),\n",
        "                                                                       tf.keras.metrics.Recall()])\n",
        "    return model\n",
        "\n",
        "# Model 2: LSTM\n",
        "def build_model_lstm():\n",
        "    model = tf.keras.Sequential([\n",
        "        tf.keras.layers.Embedding(max_words, 128, input_length=max_len),\n",
        "        tf.keras.layers.LSTM(64),\n",
        "        tf.keras.layers.Dense(1, activation='sigmoid')\n",
        "    ])\n",
        "    model.compile(optimizer='adam', loss='binary_crossentropy', metrics=['accuracy',\n",
        "                                                                       tf.keras.metrics.Precision(),\n",
        "                                                                       tf.keras.metrics.Recall()])\n",
        "    return model\n",
        "\n",
        "# Model 3: Encoder-Decoder\n",
        "def build_model_encoder_decoder():\n",
        "    model = tf.keras.Sequential([\n",
        "        tf.keras.layers.Embedding(max_words, 128, input_length=max_len),\n",
        "        tf.keras.layers.LSTM(64, return_sequences=True),\n",
        "        tf.keras.layers.LSTM(64),\n",
        "        tf.keras.layers.Dense(1, activation='sigmoid')\n",
        "    ])\n",
        "    model.compile(optimizer='adam', loss='binary_crossentropy', metrics=['accuracy',\n",
        "                                                                       tf.keras.metrics.Precision(),\n",
        "                                                                       tf.keras.metrics.Recall()])\n",
        "    return model\n",
        "\n",
        "# Model 4: Transformer\n",
        "def build_model_transformer():\n",
        "    inputs = tf.keras.Input(shape=(max_len,))\n",
        "    x = tf.keras.layers.Embedding(max_words, 128)(inputs)\n",
        "    x = tf.keras.layers.MultiHeadAttention(num_heads=4, key_dim=128)(x, x)\n",
        "    x = tf.keras.layers.GlobalAveragePooling1D()(x)\n",
        "    x = tf.keras.layers.Dense(64, activation='relu')(x)\n",
        "    outputs = tf.keras.layers.Dense(1, activation='sigmoid')(x)\n",
        "\n",
        "    model = tf.keras.Model(inputs, outputs)\n",
        "    model.compile(optimizer='adam', loss='binary_crossentropy', metrics=['accuracy',\n",
        "                                                                       tf.keras.metrics.Precision(),\n",
        "                                                                       tf.keras.metrics.Recall()])\n",
        "    return model\n",
        "\n",
        "# Training and Evaluating Each Model\n",
        "for i, build_model in enumerate([build_model_rnn, build_model_lstm, build_model_encoder_decoder, build_model_transformer]):\n",
        "    print(f\"\\nTraining Model {i+1}\")\n",
        "    print(build_model)\n",
        "    model = build_model()\n",
        "    st=time.time()\n",
        "    model.fit(X_train_padded, y_train, epochs=10, batch_size=32, validation_split=0.2)\n",
        "    end=time.time()\n",
        "    print(build_model)\n",
        "    print(\"time taken\" , end-st)\n",
        "    evaluate_model(model, X_test_padded, y_test)\n"
      ],
      "metadata": {
        "colab": {
          "base_uri": "https://localhost:8080/"
        },
        "id": "waN2L0UA94if",
        "outputId": "0233caa0-be5e-4cfe-9851-99bc7229c9c8"
      },
      "id": "waN2L0UA94if",
      "execution_count": 58,
      "outputs": [
        {
          "output_type": "stream",
          "name": "stdout",
          "text": [
            "\n",
            "Training Model 1\n",
            "<function build_model_rnn at 0x7c3be5fe7eb0>\n"
          ]
        },
        {
          "output_type": "stream",
          "name": "stderr",
          "text": [
            "/usr/local/lib/python3.10/dist-packages/keras/src/layers/core/embedding.py:90: UserWarning: Argument `input_length` is deprecated. Just remove it.\n",
            "  warnings.warn(\n"
          ]
        },
        {
          "output_type": "stream",
          "name": "stdout",
          "text": [
            "Epoch 1/10\n",
            "\u001b[1m400/400\u001b[0m \u001b[32m━━━━━━━━━━━━━━━━━━━━\u001b[0m\u001b[37m\u001b[0m \u001b[1m10s\u001b[0m 16ms/step - accuracy: 0.6688 - loss: 0.6033 - precision_6: 0.6103 - recall_6: 0.3329 - val_accuracy: 0.8091 - val_loss: 0.4255 - val_precision_6: 0.7983 - val_recall_6: 0.6729\n",
            "Epoch 2/10\n",
            "\u001b[1m400/400\u001b[0m \u001b[32m━━━━━━━━━━━━━━━━━━━━\u001b[0m\u001b[37m\u001b[0m \u001b[1m9s\u001b[0m 15ms/step - accuracy: 0.9309 - loss: 0.1883 - precision_6: 0.9248 - recall_6: 0.9004 - val_accuracy: 0.8622 - val_loss: 0.3729 - val_precision_6: 0.8167 - val_recall_6: 0.8267\n",
            "Epoch 3/10\n",
            "\u001b[1m400/400\u001b[0m \u001b[32m━━━━━━━━━━━━━━━━━━━━\u001b[0m\u001b[37m\u001b[0m \u001b[1m5s\u001b[0m 12ms/step - accuracy: 0.9804 - loss: 0.0638 - precision_6: 0.9792 - recall_6: 0.9711 - val_accuracy: 0.8566 - val_loss: 0.4586 - val_precision_6: 0.7835 - val_recall_6: 0.8657\n",
            "Epoch 4/10\n",
            "\u001b[1m400/400\u001b[0m \u001b[32m━━━━━━━━━━━━━━━━━━━━\u001b[0m\u001b[37m\u001b[0m \u001b[1m5s\u001b[0m 12ms/step - accuracy: 0.9846 - loss: 0.0513 - precision_6: 0.9808 - recall_6: 0.9796 - val_accuracy: 0.8413 - val_loss: 0.5320 - val_precision_6: 0.7548 - val_recall_6: 0.8690\n",
            "Epoch 5/10\n",
            "\u001b[1m400/400\u001b[0m \u001b[32m━━━━━━━━━━━━━━━━━━━━\u001b[0m\u001b[37m\u001b[0m \u001b[1m6s\u001b[0m 14ms/step - accuracy: 0.9903 - loss: 0.0321 - precision_6: 0.9878 - recall_6: 0.9879 - val_accuracy: 0.8647 - val_loss: 0.5101 - val_precision_6: 0.8011 - val_recall_6: 0.8617\n",
            "Epoch 6/10\n",
            "\u001b[1m400/400\u001b[0m \u001b[32m━━━━━━━━━━━━━━━━━━━━\u001b[0m\u001b[37m\u001b[0m \u001b[1m5s\u001b[0m 12ms/step - accuracy: 0.9922 - loss: 0.0240 - precision_6: 0.9899 - recall_6: 0.9901 - val_accuracy: 0.8500 - val_loss: 0.6308 - val_precision_6: 0.7639 - val_recall_6: 0.8820\n",
            "Epoch 7/10\n",
            "\u001b[1m400/400\u001b[0m \u001b[32m━━━━━━━━━━━━━━━━━━━━\u001b[0m\u001b[37m\u001b[0m \u001b[1m5s\u001b[0m 13ms/step - accuracy: 0.9949 - loss: 0.0179 - precision_6: 0.9934 - recall_6: 0.9935 - val_accuracy: 0.8366 - val_loss: 0.6723 - val_precision_6: 0.7428 - val_recall_6: 0.8788\n",
            "Epoch 8/10\n",
            "\u001b[1m400/400\u001b[0m \u001b[32m━━━━━━━━━━━━━━━━━━━━\u001b[0m\u001b[37m\u001b[0m \u001b[1m5s\u001b[0m 13ms/step - accuracy: 0.9929 - loss: 0.0196 - precision_6: 0.9914 - recall_6: 0.9907 - val_accuracy: 0.8456 - val_loss: 0.6845 - val_precision_6: 0.7597 - val_recall_6: 0.8747\n",
            "Epoch 9/10\n",
            "\u001b[1m400/400\u001b[0m \u001b[32m━━━━━━━━━━━━━━━━━━━━\u001b[0m\u001b[37m\u001b[0m \u001b[1m11s\u001b[0m 15ms/step - accuracy: 0.9951 - loss: 0.0157 - precision_6: 0.9941 - recall_6: 0.9933 - val_accuracy: 0.8522 - val_loss: 0.7109 - val_precision_6: 0.7629 - val_recall_6: 0.8926\n",
            "Epoch 10/10\n",
            "\u001b[1m400/400\u001b[0m \u001b[32m━━━━━━━━━━━━━━━━━━━━\u001b[0m\u001b[37m\u001b[0m \u001b[1m5s\u001b[0m 12ms/step - accuracy: 0.9885 - loss: 0.0317 - precision_6: 0.9848 - recall_6: 0.9863 - val_accuracy: 0.8388 - val_loss: 0.7952 - val_precision_6: 0.7417 - val_recall_6: 0.8902\n",
            "<function build_model_rnn at 0x7c3be5fe7eb0>\n",
            "time taken 65.2753472328186\n",
            "\u001b[1m126/126\u001b[0m \u001b[32m━━━━━━━━━━━━━━━━━━━━\u001b[0m\u001b[37m\u001b[0m \u001b[1m2s\u001b[0m 6ms/step - accuracy: 0.8539 - loss: 0.6448 - precision_6: 0.7660 - recall_6: 0.9024\n",
            "Test Loss: 0.68044513463974\n",
            "Test Accuracy: 0.8495376110076904\n",
            "Test Precision: 0.7622377872467041\n",
            "Test Recall: 0.8985415101051331\n",
            "Test F1 Score: 0.824796279076872\n",
            "\u001b[1m126/126\u001b[0m \u001b[32m━━━━━━━━━━━━━━━━━━━━\u001b[0m\u001b[37m\u001b[0m \u001b[1m1s\u001b[0m 8ms/step\n",
            "              precision    recall  f1-score   support\n",
            "\n",
            "           0       0.93      0.82      0.87      2424\n",
            "           1       0.76      0.90      0.82      1577\n",
            "\n",
            "    accuracy                           0.85      4001\n",
            "   macro avg       0.84      0.86      0.85      4001\n",
            "weighted avg       0.86      0.85      0.85      4001\n",
            "\n",
            "\n",
            "Training Model 2\n",
            "<function build_model_lstm at 0x7c3be5fe7d90>\n",
            "Epoch 1/10\n"
          ]
        },
        {
          "output_type": "stream",
          "name": "stderr",
          "text": [
            "/usr/local/lib/python3.10/dist-packages/keras/src/layers/core/embedding.py:90: UserWarning: Argument `input_length` is deprecated. Just remove it.\n",
            "  warnings.warn(\n"
          ]
        },
        {
          "output_type": "stream",
          "name": "stdout",
          "text": [
            "\u001b[1m400/400\u001b[0m \u001b[32m━━━━━━━━━━━━━━━━━━━━\u001b[0m\u001b[37m\u001b[0m \u001b[1m6s\u001b[0m 11ms/step - accuracy: 0.6545 - loss: 0.6017 - precision_7: 0.5929 - recall_7: 0.2949 - val_accuracy: 0.7669 - val_loss: 0.4685 - val_precision_7: 0.6851 - val_recall_7: 0.7274\n",
            "Epoch 2/10\n",
            "\u001b[1m400/400\u001b[0m \u001b[32m━━━━━━━━━━━━━━━━━━━━\u001b[0m\u001b[37m\u001b[0m \u001b[1m4s\u001b[0m 7ms/step - accuracy: 0.8588 - loss: 0.3295 - precision_7: 0.8149 - recall_7: 0.8253 - val_accuracy: 0.8100 - val_loss: 0.4250 - val_precision_7: 0.7616 - val_recall_7: 0.7356\n",
            "Epoch 3/10\n",
            "\u001b[1m400/400\u001b[0m \u001b[32m━━━━━━━━━━━━━━━━━━━━\u001b[0m\u001b[37m\u001b[0m \u001b[1m3s\u001b[0m 8ms/step - accuracy: 0.9278 - loss: 0.1961 - precision_7: 0.9094 - recall_7: 0.9093 - val_accuracy: 0.8381 - val_loss: 0.4321 - val_precision_7: 0.7582 - val_recall_7: 0.8495\n",
            "Epoch 4/10\n",
            "\u001b[1m400/400\u001b[0m \u001b[32m━━━━━━━━━━━━━━━━━━━━\u001b[0m\u001b[37m\u001b[0m \u001b[1m6s\u001b[0m 11ms/step - accuracy: 0.9570 - loss: 0.1204 - precision_7: 0.9447 - recall_7: 0.9455 - val_accuracy: 0.8547 - val_loss: 0.4487 - val_precision_7: 0.7975 - val_recall_7: 0.8332\n",
            "Epoch 5/10\n",
            "\u001b[1m400/400\u001b[0m \u001b[32m━━━━━━━━━━━━━━━━━━━━\u001b[0m\u001b[37m\u001b[0m \u001b[1m3s\u001b[0m 7ms/step - accuracy: 0.9699 - loss: 0.0872 - precision_7: 0.9582 - recall_7: 0.9640 - val_accuracy: 0.8450 - val_loss: 0.5415 - val_precision_7: 0.7579 - val_recall_7: 0.8763\n",
            "Epoch 6/10\n",
            "\u001b[1m400/400\u001b[0m \u001b[32m━━━━━━━━━━━━━━━━━━━━\u001b[0m\u001b[37m\u001b[0m \u001b[1m3s\u001b[0m 7ms/step - accuracy: 0.9782 - loss: 0.0677 - precision_7: 0.9700 - recall_7: 0.9742 - val_accuracy: 0.8431 - val_loss: 0.6242 - val_precision_7: 0.7533 - val_recall_7: 0.8796\n",
            "Epoch 7/10\n",
            "\u001b[1m400/400\u001b[0m \u001b[32m━━━━━━━━━━━━━━━━━━━━\u001b[0m\u001b[37m\u001b[0m \u001b[1m6s\u001b[0m 10ms/step - accuracy: 0.9768 - loss: 0.0644 - precision_7: 0.9682 - recall_7: 0.9731 - val_accuracy: 0.8572 - val_loss: 0.6043 - val_precision_7: 0.7830 - val_recall_7: 0.8690\n",
            "Epoch 8/10\n",
            "\u001b[1m400/400\u001b[0m \u001b[32m━━━━━━━━━━━━━━━━━━━━\u001b[0m\u001b[37m\u001b[0m \u001b[1m4s\u001b[0m 8ms/step - accuracy: 0.9855 - loss: 0.0416 - precision_7: 0.9798 - recall_7: 0.9829 - val_accuracy: 0.8500 - val_loss: 0.7089 - val_precision_7: 0.7708 - val_recall_7: 0.8674\n",
            "Epoch 9/10\n",
            "\u001b[1m400/400\u001b[0m \u001b[32m━━━━━━━━━━━━━━━━━━━━\u001b[0m\u001b[37m\u001b[0m \u001b[1m5s\u001b[0m 8ms/step - accuracy: 0.9874 - loss: 0.0348 - precision_7: 0.9812 - recall_7: 0.9872 - val_accuracy: 0.8559 - val_loss: 0.7802 - val_precision_7: 0.7795 - val_recall_7: 0.8714\n",
            "Epoch 10/10\n",
            "\u001b[1m400/400\u001b[0m \u001b[32m━━━━━━━━━━━━━━━━━━━━\u001b[0m\u001b[37m\u001b[0m \u001b[1m6s\u001b[0m 10ms/step - accuracy: 0.9889 - loss: 0.0352 - precision_7: 0.9851 - recall_7: 0.9866 - val_accuracy: 0.8544 - val_loss: 0.7907 - val_precision_7: 0.7755 - val_recall_7: 0.8739\n",
            "<function build_model_lstm at 0x7c3be5fe7d90>\n",
            "time taken 47.27389621734619\n",
            "\u001b[1m126/126\u001b[0m \u001b[32m━━━━━━━━━━━━━━━━━━━━\u001b[0m\u001b[37m\u001b[0m \u001b[1m1s\u001b[0m 4ms/step - accuracy: 0.8612 - loss: 0.7658 - precision_7: 0.7856 - recall_7: 0.8879\n",
            "Test Loss: 0.7674643397331238\n",
            "Test Accuracy: 0.8610347509384155\n",
            "Test Precision: 0.7859944105148315\n",
            "Test Recall: 0.8896639347076416\n",
            "Test F1 Score: 0.8346222628384282\n",
            "\u001b[1m126/126\u001b[0m \u001b[32m━━━━━━━━━━━━━━━━━━━━\u001b[0m\u001b[37m\u001b[0m \u001b[1m1s\u001b[0m 4ms/step\n",
            "              precision    recall  f1-score   support\n",
            "\n",
            "           0       0.92      0.84      0.88      2424\n",
            "           1       0.79      0.89      0.83      1577\n",
            "\n",
            "    accuracy                           0.86      4001\n",
            "   macro avg       0.85      0.87      0.86      4001\n",
            "weighted avg       0.87      0.86      0.86      4001\n",
            "\n",
            "\n",
            "Training Model 3\n",
            "<function build_model_encoder_decoder at 0x7c3be5fe7d00>\n",
            "Epoch 1/10\n"
          ]
        },
        {
          "output_type": "stream",
          "name": "stderr",
          "text": [
            "/usr/local/lib/python3.10/dist-packages/keras/src/layers/core/embedding.py:90: UserWarning: Argument `input_length` is deprecated. Just remove it.\n",
            "  warnings.warn(\n"
          ]
        },
        {
          "output_type": "stream",
          "name": "stdout",
          "text": [
            "\u001b[1m400/400\u001b[0m \u001b[32m━━━━━━━━━━━━━━━━━━━━\u001b[0m\u001b[37m\u001b[0m \u001b[1m7s\u001b[0m 12ms/step - accuracy: 0.6524 - loss: 0.6112 - precision_8: 0.5983 - recall_8: 0.2706 - val_accuracy: 0.7759 - val_loss: 0.4633 - val_precision_8: 0.6667 - val_recall_8: 0.8332\n",
            "Epoch 2/10\n",
            "\u001b[1m400/400\u001b[0m \u001b[32m━━━━━━━━━━━━━━━━━━━━\u001b[0m\u001b[37m\u001b[0m \u001b[1m6s\u001b[0m 15ms/step - accuracy: 0.8588 - loss: 0.3278 - precision_8: 0.8160 - recall_8: 0.8298 - val_accuracy: 0.8222 - val_loss: 0.4010 - val_precision_8: 0.7741 - val_recall_8: 0.7583\n",
            "Epoch 3/10\n",
            "\u001b[1m400/400\u001b[0m \u001b[32m━━━━━━━━━━━━━━━━━━━━\u001b[0m\u001b[37m\u001b[0m \u001b[1m9s\u001b[0m 11ms/step - accuracy: 0.9360 - loss: 0.1697 - precision_8: 0.9185 - recall_8: 0.9190 - val_accuracy: 0.8269 - val_loss: 0.4276 - val_precision_8: 0.7355 - val_recall_8: 0.8576\n",
            "Epoch 4/10\n",
            "\u001b[1m400/400\u001b[0m \u001b[32m━━━━━━━━━━━━━━━━━━━━\u001b[0m\u001b[37m\u001b[0m \u001b[1m6s\u001b[0m 14ms/step - accuracy: 0.9669 - loss: 0.1006 - precision_8: 0.9553 - recall_8: 0.9595 - val_accuracy: 0.8606 - val_loss: 0.4845 - val_precision_8: 0.7946 - val_recall_8: 0.8592\n",
            "Epoch 5/10\n",
            "\u001b[1m400/400\u001b[0m \u001b[32m━━━━━━━━━━━━━━━━━━━━\u001b[0m\u001b[37m\u001b[0m \u001b[1m10s\u001b[0m 13ms/step - accuracy: 0.9785 - loss: 0.0631 - precision_8: 0.9711 - recall_8: 0.9748 - val_accuracy: 0.8528 - val_loss: 0.5439 - val_precision_8: 0.7742 - val_recall_8: 0.8706\n",
            "Epoch 6/10\n",
            "\u001b[1m400/400\u001b[0m \u001b[32m━━━━━━━━━━━━━━━━━━━━\u001b[0m\u001b[37m\u001b[0m \u001b[1m5s\u001b[0m 13ms/step - accuracy: 0.9800 - loss: 0.0528 - precision_8: 0.9720 - recall_8: 0.9772 - val_accuracy: 0.8581 - val_loss: 0.6410 - val_precision_8: 0.7920 - val_recall_8: 0.8552\n",
            "Epoch 7/10\n",
            "\u001b[1m400/400\u001b[0m \u001b[32m━━━━━━━━━━━━━━━━━━━━\u001b[0m\u001b[37m\u001b[0m \u001b[1m11s\u001b[0m 14ms/step - accuracy: 0.9819 - loss: 0.0488 - precision_8: 0.9763 - recall_8: 0.9779 - val_accuracy: 0.8644 - val_loss: 0.6416 - val_precision_8: 0.7899 - val_recall_8: 0.8812\n",
            "Epoch 8/10\n",
            "\u001b[1m400/400\u001b[0m \u001b[32m━━━━━━━━━━━━━━━━━━━━\u001b[0m\u001b[37m\u001b[0m \u001b[1m5s\u001b[0m 11ms/step - accuracy: 0.9882 - loss: 0.0345 - precision_8: 0.9824 - recall_8: 0.9870 - val_accuracy: 0.8684 - val_loss: 0.6560 - val_precision_8: 0.8033 - val_recall_8: 0.8706\n",
            "Epoch 9/10\n",
            "\u001b[1m400/400\u001b[0m \u001b[32m━━━━━━━━━━━━━━━━━━━━\u001b[0m\u001b[37m\u001b[0m \u001b[1m5s\u001b[0m 12ms/step - accuracy: 0.9856 - loss: 0.0397 - precision_8: 0.9801 - recall_8: 0.9833 - val_accuracy: 0.8484 - val_loss: 0.7378 - val_precision_8: 0.7601 - val_recall_8: 0.8845\n",
            "Epoch 10/10\n",
            "\u001b[1m400/400\u001b[0m \u001b[32m━━━━━━━━━━━━━━━━━━━━\u001b[0m\u001b[37m\u001b[0m \u001b[1m6s\u001b[0m 15ms/step - accuracy: 0.9912 - loss: 0.0238 - precision_8: 0.9881 - recall_8: 0.9898 - val_accuracy: 0.8534 - val_loss: 0.7905 - val_precision_8: 0.7684 - val_recall_8: 0.8853\n",
            "<function build_model_encoder_decoder at 0x7c3be5fe7d00>\n",
            "time taken 68.20208597183228\n",
            "\u001b[1m126/126\u001b[0m \u001b[32m━━━━━━━━━━━━━━━━━━━━\u001b[0m\u001b[37m\u001b[0m \u001b[1m1s\u001b[0m 5ms/step - accuracy: 0.8510 - loss: 0.7943 - precision_8: 0.7665 - recall_8: 0.8899\n",
            "Test Loss: 0.7576449513435364\n",
            "Test Accuracy: 0.8547862768173218\n",
            "Test Precision: 0.77332603931427\n",
            "Test Recall: 0.8934686183929443\n",
            "Test F1 Score: 0.8290673895773646\n",
            "\u001b[1m126/126\u001b[0m \u001b[32m━━━━━━━━━━━━━━━━━━━━\u001b[0m\u001b[37m\u001b[0m \u001b[1m1s\u001b[0m 5ms/step\n",
            "              precision    recall  f1-score   support\n",
            "\n",
            "           0       0.92      0.83      0.87      2424\n",
            "           1       0.77      0.89      0.83      1577\n",
            "\n",
            "    accuracy                           0.85      4001\n",
            "   macro avg       0.85      0.86      0.85      4001\n",
            "weighted avg       0.86      0.85      0.86      4001\n",
            "\n",
            "\n",
            "Training Model 4\n",
            "<function build_model_transformer at 0x7c3be5fe7c70>\n",
            "Epoch 1/10\n",
            "\u001b[1m400/400\u001b[0m \u001b[32m━━━━━━━━━━━━━━━━━━━━\u001b[0m\u001b[37m\u001b[0m \u001b[1m7s\u001b[0m 9ms/step - accuracy: 0.6169 - loss: 0.6554 - precision_9: 0.4929 - recall_9: 0.0968 - val_accuracy: 0.7175 - val_loss: 0.5087 - val_precision_9: 0.6247 - val_recall_9: 0.6623\n",
            "Epoch 2/10\n",
            "\u001b[1m400/400\u001b[0m \u001b[32m━━━━━━━━━━━━━━━━━━━━\u001b[0m\u001b[37m\u001b[0m \u001b[1m3s\u001b[0m 7ms/step - accuracy: 0.7388 - loss: 0.4863 - precision_9: 0.6435 - recall_9: 0.7492 - val_accuracy: 0.7803 - val_loss: 0.4618 - val_precision_9: 0.6839 - val_recall_9: 0.7958\n",
            "Epoch 3/10\n",
            "\u001b[1m400/400\u001b[0m \u001b[32m━━━━━━━━━━━━━━━━━━━━\u001b[0m\u001b[37m\u001b[0m \u001b[1m5s\u001b[0m 6ms/step - accuracy: 0.8692 - loss: 0.3041 - precision_9: 0.8148 - recall_9: 0.8596 - val_accuracy: 0.8044 - val_loss: 0.4862 - val_precision_9: 0.7058 - val_recall_9: 0.8413\n",
            "Epoch 4/10\n",
            "\u001b[1m400/400\u001b[0m \u001b[32m━━━━━━━━━━━━━━━━━━━━\u001b[0m\u001b[37m\u001b[0m \u001b[1m2s\u001b[0m 6ms/step - accuracy: 0.9365 - loss: 0.1680 - precision_9: 0.9133 - recall_9: 0.9247 - val_accuracy: 0.8250 - val_loss: 0.5550 - val_precision_9: 0.7274 - val_recall_9: 0.8706\n",
            "Epoch 5/10\n",
            "\u001b[1m400/400\u001b[0m \u001b[32m━━━━━━━━━━━━━━━━━━━━\u001b[0m\u001b[37m\u001b[0m \u001b[1m2s\u001b[0m 6ms/step - accuracy: 0.9601 - loss: 0.1068 - precision_9: 0.9419 - recall_9: 0.9579 - val_accuracy: 0.8222 - val_loss: 0.6206 - val_precision_9: 0.7230 - val_recall_9: 0.8706\n",
            "Epoch 6/10\n",
            "\u001b[1m400/400\u001b[0m \u001b[32m━━━━━━━━━━━━━━━━━━━━\u001b[0m\u001b[37m\u001b[0m \u001b[1m3s\u001b[0m 6ms/step - accuracy: 0.9717 - loss: 0.0777 - precision_9: 0.9625 - recall_9: 0.9656 - val_accuracy: 0.8125 - val_loss: 0.7522 - val_precision_9: 0.7068 - val_recall_9: 0.8747\n",
            "Epoch 7/10\n",
            "\u001b[1m400/400\u001b[0m \u001b[32m━━━━━━━━━━━━━━━━━━━━\u001b[0m\u001b[37m\u001b[0m \u001b[1m3s\u001b[0m 7ms/step - accuracy: 0.9735 - loss: 0.0638 - precision_9: 0.9687 - recall_9: 0.9644 - val_accuracy: 0.8303 - val_loss: 0.7816 - val_precision_9: 0.7372 - val_recall_9: 0.8674\n",
            "Epoch 8/10\n",
            "\u001b[1m400/400\u001b[0m \u001b[32m━━━━━━━━━━━━━━━━━━━━\u001b[0m\u001b[37m\u001b[0m \u001b[1m2s\u001b[0m 5ms/step - accuracy: 0.9779 - loss: 0.0515 - precision_9: 0.9694 - recall_9: 0.9736 - val_accuracy: 0.8306 - val_loss: 0.9930 - val_precision_9: 0.7351 - val_recall_9: 0.8739\n",
            "Epoch 9/10\n",
            "\u001b[1m400/400\u001b[0m \u001b[32m━━━━━━━━━━━━━━━━━━━━\u001b[0m\u001b[37m\u001b[0m \u001b[1m3s\u001b[0m 6ms/step - accuracy: 0.9805 - loss: 0.0428 - precision_9: 0.9796 - recall_9: 0.9706 - val_accuracy: 0.8403 - val_loss: 0.8916 - val_precision_9: 0.7521 - val_recall_9: 0.8714\n",
            "Epoch 10/10\n",
            "\u001b[1m400/400\u001b[0m \u001b[32m━━━━━━━━━━━━━━━━━━━━\u001b[0m\u001b[37m\u001b[0m \u001b[1m2s\u001b[0m 6ms/step - accuracy: 0.9843 - loss: 0.0410 - precision_9: 0.9790 - recall_9: 0.9804 - val_accuracy: 0.8553 - val_loss: 0.8805 - val_precision_9: 0.7800 - val_recall_9: 0.8682\n",
            "<function build_model_transformer at 0x7c3be5fe7c70>\n",
            "time taken 32.12766456604004\n",
            "\u001b[1m126/126\u001b[0m \u001b[32m━━━━━━━━━━━━━━━━━━━━\u001b[0m\u001b[37m\u001b[0m \u001b[1m2s\u001b[0m 6ms/step - accuracy: 0.8587 - loss: 0.8722 - precision_9: 0.7902 - recall_9: 0.8703\n",
            "Test Loss: 0.8520019054412842\n",
            "Test Accuracy: 0.8587853312492371\n",
            "Test Precision: 0.7921478152275085\n",
            "Test Recall: 0.8700063228607178\n",
            "Test F1 Score: 0.8292535476654512\n",
            "\u001b[1m126/126\u001b[0m \u001b[32m━━━━━━━━━━━━━━━━━━━━\u001b[0m\u001b[37m\u001b[0m \u001b[1m1s\u001b[0m 4ms/step\n",
            "              precision    recall  f1-score   support\n",
            "\n",
            "           0       0.91      0.85      0.88      2424\n",
            "           1       0.79      0.87      0.83      1577\n",
            "\n",
            "    accuracy                           0.86      4001\n",
            "   macro avg       0.85      0.86      0.85      4001\n",
            "weighted avg       0.86      0.86      0.86      4001\n",
            "\n"
          ]
        }
      ]
    },
    {
      "cell_type": "code",
      "source": [],
      "metadata": {
        "id": "t4KyAhGJ94fc"
      },
      "id": "t4KyAhGJ94fc",
      "execution_count": null,
      "outputs": []
    },
    {
      "cell_type": "code",
      "source": [],
      "metadata": {
        "id": "tq3TRH6g94dd"
      },
      "id": "tq3TRH6g94dd",
      "execution_count": null,
      "outputs": []
    },
    {
      "cell_type": "code",
      "source": [],
      "metadata": {
        "id": "un9dac4994ac"
      },
      "id": "un9dac4994ac",
      "execution_count": null,
      "outputs": []
    },
    {
      "cell_type": "code",
      "execution_count": 25,
      "id": "d820151d",
      "metadata": {
        "colab": {
          "base_uri": "https://localhost:8080/",
          "height": 78
        },
        "id": "d820151d",
        "outputId": "dbc16d62-03db-4bb6-ebd3-557770a3c91d"
      },
      "outputs": [
        {
          "output_type": "display_data",
          "data": {
            "text/plain": [
              "<IPython.core.display.HTML object>"
            ],
            "text/html": [
              "<style>\n",
              "    @import 'https://fonts.googleapis.com/css?family=Akronim&effect=3d-float';</style>\n",
              "    <h1 class='font-effect-3d-float' style='font-family:Akronim; color:#eb3434; font-size:30px;'>Thanks to Dr. Bam Bahadur Sinha sir, all code by Abhishek.</h1>"
            ]
          },
          "metadata": {}
        }
      ],
      "source": [
        "from IPython.display import display,HTML\n",
        "c1,c2,f1,f2,fs1,fs2=\\\n",
        "'#eb3434','#eb3446','Akronim','Smokum',30,15\n",
        "def dhtml(string,fontcolor=c1,font=f1,fontsize=fs1):\n",
        "    display(HTML(\"\"\"<style>\n",
        "    @import 'https://fonts.googleapis.com/css?family=\"\"\"\\\n",
        "    +font+\"\"\"&effect=3d-float';</style>\n",
        "    <h1 class='font-effect-3d-float' style='font-family:\"\"\"+\\\n",
        "    font+\"\"\"; color:\"\"\"+fontcolor+\"\"\"; font-size:\"\"\"+\\\n",
        "    str(fontsize)+\"\"\"px;'>%s</h1>\"\"\"%string))\n",
        "\n",
        "\n",
        "dhtml('Thanks to Dr. Bam Bahadur Sinha sir, all code by Abhishek.')"
      ]
    }
  ],
  "metadata": {
    "kernelspec": {
      "display_name": "Python 3",
      "name": "python3"
    },
    "language_info": {
      "codemirror_mode": {
        "name": "ipython",
        "version": 3
      },
      "file_extension": ".py",
      "mimetype": "text/x-python",
      "name": "python",
      "nbconvert_exporter": "python",
      "pygments_lexer": "ipython3",
      "version": "3.11.7"
    },
    "colab": {
      "provenance": [],
      "gpuType": "T4"
    },
    "accelerator": "GPU"
  },
  "nbformat": 4,
  "nbformat_minor": 5
}