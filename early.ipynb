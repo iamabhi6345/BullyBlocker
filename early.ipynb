{
 "cells": [
  {
   "cell_type": "code",
   "execution_count": 1,
   "metadata": {
    "_cell_guid": "b1076dfc-b9ad-4769-8c92-a6c4dae69d19",
    "_uuid": "8f2839f25d086af736a60e9eeb907d3b93b6e0e5",
    "execution": {
     "iopub.execute_input": "2021-09-27T13:47:16.142057Z",
     "iopub.status.busy": "2021-09-27T13:47:16.141091Z",
     "iopub.status.idle": "2021-09-27T13:47:16.169349Z",
     "shell.execute_reply": "2021-09-27T13:47:16.167924Z",
     "shell.execute_reply.started": "2021-09-27T13:47:16.141928Z"
    }
   },
   "outputs": [],
   "source": [
    "import numpy as np # linear algebra\n",
    "import pandas as pd # data processing, CSV file I/O (e.g. pd.read_csv)\n",
    "\n"
   ]
  },
  {
   "cell_type": "code",
   "execution_count": 2,
   "metadata": {
    "execution": {
     "iopub.execute_input": "2021-09-27T13:47:17.112118Z",
     "iopub.status.busy": "2021-09-27T13:47:17.111765Z",
     "iopub.status.idle": "2021-09-27T13:47:18.10141Z",
     "shell.execute_reply": "2021-09-27T13:47:18.100347Z",
     "shell.execute_reply.started": "2021-09-27T13:47:17.112088Z"
    }
   },
   "outputs": [],
   "source": [
    "import sklearn\n",
    "import matplotlib.pyplot as plt\n",
    "%matplotlib inline\n",
    "from sklearn.metrics import confusion_matrix\n",
    "from sklearn.metrics import recall_score\n",
    "from sklearn.metrics import precision_score\n",
    "from sklearn.metrics import f1_score\n",
    "from sklearn.metrics import accuracy_score\n",
    "import time"
   ]
  },
  {
   "cell_type": "code",
   "execution_count": 3,
   "metadata": {
    "execution": {
     "iopub.execute_input": "2021-09-27T13:47:18.103038Z",
     "iopub.status.busy": "2021-09-27T13:47:18.102744Z",
     "iopub.status.idle": "2021-09-27T13:47:18.178092Z",
     "shell.execute_reply": "2021-09-27T13:47:18.177141Z",
     "shell.execute_reply.started": "2021-09-27T13:47:18.103011Z"
    }
   },
   "outputs": [],
   "source": [
    "df = pd.read_csv('data.csv', encoding='ISO-8859-2')"
   ]
  },
  {
   "cell_type": "code",
   "execution_count": 4,
   "metadata": {
    "execution": {
     "iopub.execute_input": "2021-09-27T13:47:18.179961Z",
     "iopub.status.busy": "2021-09-27T13:47:18.179685Z",
     "iopub.status.idle": "2021-09-27T13:47:18.205791Z",
     "shell.execute_reply": "2021-09-27T13:47:18.204819Z",
     "shell.execute_reply.started": "2021-09-27T13:47:18.179935Z"
    }
   },
   "outputs": [],
   "source": [
    "from sklearn.model_selection import train_test_split\n",
    "X = df['comments']\n",
    "y = df['tagging']"
   ]
  },
  {
   "cell_type": "code",
   "execution_count": 5,
   "metadata": {
    "execution": {
     "iopub.execute_input": "2021-09-27T13:47:18.207516Z",
     "iopub.status.busy": "2021-09-27T13:47:18.207206Z",
     "iopub.status.idle": "2021-09-27T13:47:18.225687Z",
     "shell.execute_reply": "2021-09-27T13:47:18.22472Z",
     "shell.execute_reply.started": "2021-09-27T13:47:18.207489Z"
    }
   },
   "outputs": [],
   "source": [
    "train_X,val_X,train_y,val_y=(train_test_split(X, y, random_state = 0,test_size=0.10)) # 90:10\n",
    "train_X1,val_X1,train_y1,val_y1=(train_test_split(X, y, random_state = 0,test_size=0.20)) # 80:20\n",
    "train_X2,val_X2,train_y2,val_y2=(train_test_split(X, y, random_state = 0,test_size=0.30)) # 70:30"
   ]
  },
  {
   "cell_type": "markdown",
   "metadata": {},
   "source": [
    "# Data preprocessing"
   ]
  },
  {
   "cell_type": "code",
   "execution_count": 6,
   "metadata": {
    "execution": {
     "iopub.execute_input": "2021-09-27T13:47:18.227369Z",
     "iopub.status.busy": "2021-09-27T13:47:18.227054Z",
     "iopub.status.idle": "2021-09-27T13:47:19.540541Z",
     "shell.execute_reply": "2021-09-27T13:47:19.539755Z",
     "shell.execute_reply.started": "2021-09-27T13:47:18.227341Z"
    }
   },
   "outputs": [],
   "source": [
    "from sklearn.feature_extraction.text import CountVectorizer\n",
    "vectorizer = CountVectorizer()\n",
    "train_X = vectorizer.fit_transform(train_X)\n",
    "val_X = vectorizer.transform(val_X)\n",
    "\n",
    "vectorizer1 = CountVectorizer()\n",
    "train_X1 = vectorizer1.fit_transform(train_X1)\n",
    "val_X1 = vectorizer1.transform(val_X1)\n",
    "\n",
    "vectorizer2 = CountVectorizer()\n",
    "train_X2 = vectorizer2.fit_transform(train_X2)\n",
    "val_X2 = vectorizer2.transform(val_X2)"
   ]
  },
  {
   "cell_type": "code",
   "execution_count": 7,
   "metadata": {
    "execution": {
     "iopub.execute_input": "2021-09-27T13:47:19.542142Z",
     "iopub.status.busy": "2021-09-27T13:47:19.541684Z",
     "iopub.status.idle": "2021-09-27T13:47:19.57671Z",
     "shell.execute_reply": "2021-09-27T13:47:19.57589Z",
     "shell.execute_reply.started": "2021-09-27T13:47:19.542094Z"
    }
   },
   "outputs": [
    {
     "name": "stderr",
     "output_type": "stream",
     "text": [
      "C:\\Users\\iamab\\AppData\\Local\\Programs\\Python\\Python310\\lib\\site-packages\\sklearn\\utils\\deprecation.py:87: FutureWarning: Function get_feature_names is deprecated; get_feature_names is deprecated in 1.0 and will be removed in 1.2. Please use get_feature_names_out instead.\n",
      "  warnings.warn(msg, category=FutureWarning)\n"
     ]
    }
   ],
   "source": [
    "feature_names = vectorizer.get_feature_names()\n",
    "voc = vectorizer.vocabulary_\n",
    "\n",
    "feature_names1 = vectorizer1.get_feature_names()\n",
    "voc1 = vectorizer1.vocabulary_\n",
    "\n",
    "feature_names2 = vectorizer2.get_feature_names()\n",
    "voc2 = vectorizer2.vocabulary_"
   ]
  },
  {
   "cell_type": "markdown",
   "metadata": {},
   "source": [
    "\n",
    "# SVM"
   ]
  },
  {
   "cell_type": "markdown",
   "metadata": {},
   "source": [
    " **Train_x 0.1**\n"
   ]
  },
  {
   "cell_type": "code",
   "execution_count": null,
   "metadata": {
    "execution": {
     "iopub.execute_input": "2021-09-27T13:47:19.578515Z",
     "iopub.status.busy": "2021-09-27T13:47:19.577911Z",
     "iopub.status.idle": "2021-09-27T13:50:21.597464Z",
     "shell.execute_reply": "2021-09-27T13:50:21.596622Z",
     "shell.execute_reply.started": "2021-09-27T13:47:19.578471Z"
    }
   },
   "outputs": [],
   "source": [
    "begin = time.time()\n",
    "from sklearn.svm import SVC # \"Support vector classifier\"  \n",
    "model1 = SVC(kernel='linear', random_state=0,C=10)\n",
    "model1.fit(train_X,train_y)\n",
    "predictions = model1.predict(val_X)\n",
    "end = time.time()"
   ]
  },
  {
   "cell_type": "code",
   "execution_count": null,
   "metadata": {
    "execution": {
     "iopub.execute_input": "2021-09-27T13:50:21.600199Z",
     "iopub.status.busy": "2021-09-27T13:50:21.599713Z",
     "iopub.status.idle": "2021-09-27T13:50:21.60575Z",
     "shell.execute_reply": "2021-09-27T13:50:21.604599Z",
     "shell.execute_reply.started": "2021-09-27T13:50:21.600148Z"
    }
   },
   "outputs": [],
   "source": [
    "print(f\"Time taken to train the SVM classifier is {end - begin} seconds\")\n"
   ]
  },
  {
   "cell_type": "code",
   "execution_count": null,
   "metadata": {
    "execution": {
     "iopub.execute_input": "2021-09-27T13:50:21.608141Z",
     "iopub.status.busy": "2021-09-27T13:50:21.607857Z",
     "iopub.status.idle": "2021-09-27T13:50:21.637825Z",
     "shell.execute_reply": "2021-09-27T13:50:21.636988Z",
     "shell.execute_reply.started": "2021-09-27T13:50:21.608113Z"
    }
   },
   "outputs": [],
   "source": [
    "print(\"Recall Score\\n\",recall_score(val_y,predictions))\n",
    "print(\"\\nAccuracy score\\n\",accuracy_score(val_y,predictions))\n",
    "print(\"\\nConfusion matrix\\n\",confusion_matrix(val_y,predictions))\n",
    "print(\"\\nF1 score\\n\", f1_score(val_y,predictions))\n",
    "print(\"\\nPrecision score\\n\", precision_score(val_y,predictions))"
   ]
  },
  {
   "cell_type": "markdown",
   "metadata": {},
   "source": [
    "**train_x1 0.2**"
   ]
  },
  {
   "cell_type": "code",
   "execution_count": null,
   "metadata": {
    "execution": {
     "iopub.execute_input": "2021-09-27T13:50:21.639344Z",
     "iopub.status.busy": "2021-09-27T13:50:21.63891Z",
     "iopub.status.idle": "2021-09-27T13:52:39.148265Z",
     "shell.execute_reply": "2021-09-27T13:52:39.147097Z",
     "shell.execute_reply.started": "2021-09-27T13:50:21.639302Z"
    }
   },
   "outputs": [],
   "source": [
    "begin = time.time()\n",
    "from sklearn.svm import SVC # \"Support vector classifier\"  \n",
    "model1 = SVC(kernel='linear', random_state=0,C=10)\n",
    "model1.fit(train_X1,train_y1)\n",
    "predictions = model1.predict(val_X1)\n",
    "end = time.time()"
   ]
  },
  {
   "cell_type": "code",
   "execution_count": null,
   "metadata": {
    "execution": {
     "iopub.execute_input": "2021-09-27T13:52:39.152291Z",
     "iopub.status.busy": "2021-09-27T13:52:39.151961Z",
     "iopub.status.idle": "2021-09-27T13:52:39.157481Z",
     "shell.execute_reply": "2021-09-27T13:52:39.156448Z",
     "shell.execute_reply.started": "2021-09-27T13:52:39.152257Z"
    }
   },
   "outputs": [],
   "source": [
    "print(f\"Time taken to train the SVM classifier is {end - begin} seconds\")"
   ]
  },
  {
   "cell_type": "code",
   "execution_count": null,
   "metadata": {
    "execution": {
     "iopub.execute_input": "2021-09-27T13:52:39.158855Z",
     "iopub.status.busy": "2021-09-27T13:52:39.158592Z",
     "iopub.status.idle": "2021-09-27T13:52:39.190115Z",
     "shell.execute_reply": "2021-09-27T13:52:39.189056Z",
     "shell.execute_reply.started": "2021-09-27T13:52:39.158829Z"
    }
   },
   "outputs": [],
   "source": [
    "print(\"Recall Score\\n\",recall_score(val_y1,predictions))\n",
    "print(\"\\nAccuracy score\\n\",accuracy_score(val_y1,predictions))\n",
    "print(\"\\nConfusion matrix\\n\",confusion_matrix(val_y1,predictions))\n",
    "print(\"\\nF1 score\\n\", f1_score(val_y1,predictions))\n",
    "print(\"\\nPrecision score\\n\", precision_score(val_y1,predictions))"
   ]
  },
  {
   "cell_type": "markdown",
   "metadata": {},
   "source": [
    "**train_x 0.3**"
   ]
  },
  {
   "cell_type": "code",
   "execution_count": null,
   "metadata": {
    "execution": {
     "iopub.execute_input": "2021-09-27T14:05:44.960405Z",
     "iopub.status.busy": "2021-09-27T14:05:44.960029Z"
    }
   },
   "outputs": [],
   "source": [
    "begin = time.time()\n",
    "from sklearn.svm import SVC # \"Support vector classifier\"  \n",
    "model1 = SVC(kernel='linear', random_state=0,C=10)\n",
    "model1.fit(train_X2.toarray(),train_y2)\n",
    "predictions = model1.predict(val_X2.toarray())\n",
    "end = time.time()"
   ]
  },
  {
   "cell_type": "code",
   "execution_count": null,
   "metadata": {
    "execution": {
     "iopub.status.busy": "2021-09-27T13:52:39.300091Z",
     "iopub.status.idle": "2021-09-27T13:52:39.300535Z"
    }
   },
   "outputs": [],
   "source": [
    "print(f\"Time taken to train the naive_bayes classifier is {end - begin} seconds\")"
   ]
  },
  {
   "cell_type": "code",
   "execution_count": null,
   "metadata": {
    "execution": {
     "iopub.status.busy": "2021-09-27T13:52:39.302543Z",
     "iopub.status.idle": "2021-09-27T13:52:39.303034Z"
    }
   },
   "outputs": [],
   "source": [
    "print(\"Recall Score\\n\",recall_score(val_y2,predictions))\n",
    "print(\"\\nAccuracy score\\n\",accuracy_score(val_y2,predictions))\n",
    "print(\"\\nConfusion matrix\\n\",confusion_matrix(val_y2,predictions))\n",
    "print(\"\\nF1 score\\n\", f1_score(val_y2,predictions))\n",
    "print(\"\\nPrecision score\\n\", precision_score(val_y2,predictions))"
   ]
  },
  {
   "cell_type": "code",
   "execution_count": null,
   "metadata": {
    "execution": {
     "iopub.status.busy": "2021-09-27T13:52:39.304041Z",
     "iopub.status.idle": "2021-09-27T13:52:39.304491Z"
    }
   },
   "outputs": [],
   "source": [
    "#def top_features(classifier, feature_names, top_features=20):\n",
    " #coef = classifier.coef_\n",
    " #coef = coef.toarray()\n",
    " #out = np.argsort(coef)\n",
    " #coef = coef.transpose()\n",
    " #out = out.transpose()[-top_features:]\n",
    " #out = out[::-1]\n",
    " #print(out.shape)\n",
    " #out = out.transpose()\n",
    " #feature_names = np.array(feature_names)\n",
    " #print(feature_names[out])"
   ]
  },
  {
   "cell_type": "code",
   "execution_count": null,
   "metadata": {
    "execution": {
     "iopub.status.busy": "2021-09-27T13:52:39.305516Z",
     "iopub.status.idle": "2021-09-27T13:52:39.305948Z"
    }
   },
   "outputs": [],
   "source": [
    "#top_features(model1,feature_names,25)\n"
   ]
  },
  {
   "cell_type": "markdown",
   "metadata": {},
   "source": [
    "\n",
    "# Naive Bayes"
   ]
  },
  {
   "cell_type": "markdown",
   "metadata": {},
   "source": [
    "# Train_x = 0.1\n"
   ]
  },
  {
   "cell_type": "code",
   "execution_count": null,
   "metadata": {
    "execution": {
     "iopub.status.busy": "2021-09-27T13:52:39.307056Z",
     "iopub.status.idle": "2021-09-27T13:52:39.307497Z"
    }
   },
   "outputs": [],
   "source": [
    "begin = time.time()\n",
    "from sklearn.naive_bayes import GaussianNB\n",
    "model = GaussianNB()\n",
    "model.fit(train_X.toarray(),train_y)\n",
    "predictions = model.predict(val_X.toarray())\n",
    "end = time.time()"
   ]
  },
  {
   "cell_type": "code",
   "execution_count": null,
   "metadata": {
    "execution": {
     "iopub.status.busy": "2021-09-27T13:52:39.30831Z",
     "iopub.status.idle": "2021-09-27T13:52:39.308726Z"
    }
   },
   "outputs": [],
   "source": [
    "print(f\"Time taken to train the naive_bayes classifier is {end - begin} seconds\")"
   ]
  },
  {
   "cell_type": "code",
   "execution_count": null,
   "metadata": {
    "execution": {
     "iopub.status.busy": "2021-09-27T13:52:39.309797Z",
     "iopub.status.idle": "2021-09-27T13:52:39.310218Z"
    }
   },
   "outputs": [],
   "source": [
    "print(\"Recall Score\\n\",recall_score(val_y,predictions))\n",
    "print(\"\\nAccuracy score\\n\",accuracy_score(val_y,predictions))\n",
    "print(\"\\nConfusion matrix\\n\",confusion_matrix(val_y,predictions))\n",
    "print(\"\\nF1 score\\n\", f1_score(val_y,predictions))\n",
    "print(\"\\nPrecision score\\n\", precision_score(val_y,predictions))"
   ]
  },
  {
   "cell_type": "markdown",
   "metadata": {},
   "source": [
    "# Train_x = 0.2"
   ]
  },
  {
   "cell_type": "code",
   "execution_count": null,
   "metadata": {
    "execution": {
     "iopub.status.busy": "2021-09-27T13:52:39.311191Z",
     "iopub.status.idle": "2021-09-27T13:52:39.31165Z"
    }
   },
   "outputs": [],
   "source": [
    "begin = time.time()\n",
    "model = GaussianNB()\n",
    "model.fit(train_X1.toarray(),train_y1)\n",
    "predictions = model.predict(val_X1.toarray())\n",
    "end = time.time()"
   ]
  },
  {
   "cell_type": "code",
   "execution_count": null,
   "metadata": {
    "execution": {
     "iopub.status.busy": "2021-09-27T13:52:39.312501Z",
     "iopub.status.idle": "2021-09-27T13:52:39.312932Z"
    }
   },
   "outputs": [],
   "source": [
    "print(f\"Time taken to train the naive_bayes classifier is {end - begin} seconds\")"
   ]
  },
  {
   "cell_type": "code",
   "execution_count": null,
   "metadata": {
    "execution": {
     "iopub.status.busy": "2021-09-27T13:52:39.313999Z",
     "iopub.status.idle": "2021-09-27T13:52:39.314438Z"
    }
   },
   "outputs": [],
   "source": [
    "print(\"Recall Score\\n\",recall_score(val_y1,predictions))\n",
    "print(\"\\nAccuracy score\\n\",accuracy_score(val_y1,predictions))\n",
    "print(\"\\nConfusion matrix\\n\",confusion_matrix(val_y1,predictions))\n",
    "print(\"\\nF1 score\\n\", f1_score(val_y1,predictions))\n",
    "print(\"\\nPrecision score\\n\", precision_score(val_y1,predictions))"
   ]
  },
  {
   "cell_type": "markdown",
   "metadata": {},
   "source": [
    "# Train_X = 0.3"
   ]
  },
  {
   "cell_type": "code",
   "execution_count": null,
   "metadata": {
    "execution": {
     "iopub.status.busy": "2021-09-27T13:52:39.315268Z",
     "iopub.status.idle": "2021-09-27T13:52:39.315712Z"
    }
   },
   "outputs": [],
   "source": [
    "begin = time.time()\n",
    "model = GaussianNB()\n",
    "model.fit(train_X2.toarray(),train_y2)\n",
    "predictions = model.predict(val_X2.toarray())\n",
    "end = time.time()"
   ]
  },
  {
   "cell_type": "code",
   "execution_count": null,
   "metadata": {
    "execution": {
     "iopub.status.busy": "2021-09-27T13:52:39.316668Z",
     "iopub.status.idle": "2021-09-27T13:52:39.317092Z"
    }
   },
   "outputs": [],
   "source": [
    "print(f\"Time taken to train the naive_bayes classifier is {end - begin} seconds\")"
   ]
  },
  {
   "cell_type": "code",
   "execution_count": null,
   "metadata": {
    "execution": {
     "iopub.status.busy": "2021-09-27T13:52:39.317912Z",
     "iopub.status.idle": "2021-09-27T13:52:39.318323Z"
    }
   },
   "outputs": [],
   "source": [
    "print(\"Recall Score\\n\",recall_score(val_y2,predictions))\n",
    "print(\"\\nAccuracy score\\n\",accuracy_score(val_y2,predictions))\n",
    "print(\"\\nConfusion matrix\\n\",confusion_matrix(val_y2,predictions))\n",
    "print(\"\\nF1 score\\n\", f1_score(val_y2,predictions))\n",
    "print(\"\\nPrecision score\\n\", precision_score(val_y2,predictions))"
   ]
  },
  {
   "cell_type": "code",
   "execution_count": null,
   "metadata": {
    "execution": {
     "iopub.status.busy": "2021-09-27T13:52:39.319192Z",
     "iopub.status.idle": "2021-09-27T13:52:39.319633Z"
    }
   },
   "outputs": [],
   "source": [
    "#begin = time.time()\n",
    "#from sklearn.naive_bayes import BernoulliNB\n",
    "#model = BernoulliNB()\n",
    "#model.fit(train_X,train_y)\n",
    "#predictions = model.predict(val_X)\n",
    "#end = time.time()"
   ]
  },
  {
   "cell_type": "code",
   "execution_count": null,
   "metadata": {
    "execution": {
     "iopub.status.busy": "2021-09-27T13:52:39.320668Z",
     "iopub.status.idle": "2021-09-27T13:52:39.321112Z"
    }
   },
   "outputs": [],
   "source": [
    "#print(\"Recall Score\\n\",recall_score(val_y,predictions))\n",
    "#print(\"\\nAccuracy score\\n\",accuracy_score(val_y,predictions))\n",
    "#print(\"\\nConfusion matrix\\n\",confusion_matrix(val_y,predictions))\n",
    "#print(\"\\nF1 score\\n\", f1_score(val_y,predictions))\n",
    "#print(\"\\nPrecision score\\n\", precision_score(val_y,predictions))"
   ]
  },
  {
   "cell_type": "markdown",
   "metadata": {},
   "source": [
    "\n",
    "# KNN"
   ]
  },
  {
   "cell_type": "markdown",
   "metadata": {},
   "source": [
    "# Train_X = 0.1"
   ]
  },
  {
   "cell_type": "code",
   "execution_count": null,
   "metadata": {
    "execution": {
     "iopub.status.busy": "2021-09-27T13:52:39.321918Z",
     "iopub.status.idle": "2021-09-27T13:52:39.322331Z"
    }
   },
   "outputs": [],
   "source": [
    "begin = time.time()\n",
    "from sklearn.neighbors import KNeighborsClassifier\n",
    "model = KNeighborsClassifier(n_neighbors=1)\n",
    "model.fit(train_X,train_y)\n",
    "predictions = model.predict(val_X)\n",
    "end = time.time()"
   ]
  },
  {
   "cell_type": "code",
   "execution_count": null,
   "metadata": {
    "execution": {
     "iopub.status.busy": "2021-09-27T13:52:39.323209Z",
     "iopub.status.idle": "2021-09-27T13:52:39.323638Z"
    }
   },
   "outputs": [],
   "source": [
    "print(f\"Time taken to train the KNN classifier is {end - begin} seconds\")"
   ]
  },
  {
   "cell_type": "code",
   "execution_count": null,
   "metadata": {
    "execution": {
     "iopub.status.busy": "2021-09-27T13:52:39.324549Z",
     "iopub.status.idle": "2021-09-27T13:52:39.324952Z"
    }
   },
   "outputs": [],
   "source": [
    "print(\"Recall Score\\n\",recall_score(val_y,predictions))\n",
    "print(\"\\nAccuracy score\\n\",accuracy_score(val_y,predictions))\n",
    "print(\"\\nConfusion matrix\\n\",confusion_matrix(val_y,predictions))\n",
    "print(\"\\nF1 score\\n\", f1_score(val_y,predictions))\n",
    "print(\"\\nPrecision score\\n\", precision_score(val_y,predictions))"
   ]
  },
  {
   "cell_type": "markdown",
   "metadata": {},
   "source": [
    "# Train_X = 0.2"
   ]
  },
  {
   "cell_type": "code",
   "execution_count": null,
   "metadata": {
    "execution": {
     "iopub.status.busy": "2021-09-27T13:52:39.325722Z",
     "iopub.status.idle": "2021-09-27T13:52:39.326128Z"
    }
   },
   "outputs": [],
   "source": [
    "begin = time.time()\n",
    "model = KNeighborsClassifier(n_neighbors=1)\n",
    "model.fit(train_X1,train_y1)\n",
    "predictions = model.predict(val_X1)\n",
    "end = time.time()"
   ]
  },
  {
   "cell_type": "code",
   "execution_count": null,
   "metadata": {
    "execution": {
     "iopub.status.busy": "2021-09-27T13:52:39.326932Z",
     "iopub.status.idle": "2021-09-27T13:52:39.327362Z"
    }
   },
   "outputs": [],
   "source": [
    "print(f\"Time taken to train the KNN classifier is {end - begin} seconds\")"
   ]
  },
  {
   "cell_type": "code",
   "execution_count": null,
   "metadata": {
    "execution": {
     "iopub.status.busy": "2021-09-27T13:52:39.328334Z",
     "iopub.status.idle": "2021-09-27T13:52:39.328742Z"
    }
   },
   "outputs": [],
   "source": [
    "print(\"Recall Score\\n\",recall_score(val_y1,predictions))\n",
    "print(\"\\nAccuracy score\\n\",accuracy_score(val_y1,predictions))\n",
    "print(\"\\nConfusion matrix\\n\",confusion_matrix(val_y1,predictions))\n",
    "print(\"\\nF1 score\\n\", f1_score(val_y1,predictions))\n",
    "print(\"\\nPrecision score\\n\", precision_score(val_y1,predictions))"
   ]
  },
  {
   "cell_type": "markdown",
   "metadata": {},
   "source": [
    "# Train_X = 0.3"
   ]
  },
  {
   "cell_type": "code",
   "execution_count": null,
   "metadata": {
    "execution": {
     "iopub.status.busy": "2021-09-27T13:52:39.329519Z",
     "iopub.status.idle": "2021-09-27T13:52:39.329926Z"
    }
   },
   "outputs": [],
   "source": [
    "begin = time.time()\n",
    "model = KNeighborsClassifier(n_neighbors=1)\n",
    "model.fit(train_X2,train_y2)\n",
    "predictions = model.predict(val_X2)\n",
    "end = time.time()"
   ]
  },
  {
   "cell_type": "code",
   "execution_count": null,
   "metadata": {
    "execution": {
     "iopub.status.busy": "2021-09-27T13:52:39.330822Z",
     "iopub.status.idle": "2021-09-27T13:52:39.331356Z"
    }
   },
   "outputs": [],
   "source": [
    "print(f\"Time taken to train the KNN classifier is {end - begin} seconds\")"
   ]
  },
  {
   "cell_type": "code",
   "execution_count": null,
   "metadata": {
    "execution": {
     "iopub.status.busy": "2021-09-27T13:52:39.33217Z",
     "iopub.status.idle": "2021-09-27T13:52:39.332605Z"
    }
   },
   "outputs": [],
   "source": [
    "print(\"Recall Score\\n\",recall_score(val_y2,predictions))\n",
    "print(\"\\nAccuracy score\\n\",accuracy_score(val_y2,predictions))\n",
    "print(\"\\nConfusion matrix\\n\",confusion_matrix(val_y2,predictions))\n",
    "print(\"\\nF1 score\\n\", f1_score(val_y2,predictions))\n",
    "print(\"\\nPrecision score\\n\", precision_score(val_y2,predictions))"
   ]
  }
 ],
 "metadata": {
  "kaggle": {
   "accelerator": "none",
   "dataSources": [
    {
     "datasetId": 1382245,
     "sourceId": 2293133,
     "sourceType": "datasetVersion"
    }
   ],
   "dockerImageVersionId": 30120,
   "isGpuEnabled": false,
   "isInternetEnabled": false,
   "language": "python",
   "sourceType": "notebook"
  },
  "kernelspec": {
   "display_name": "Python 3 (ipykernel)",
   "language": "python",
   "name": "python3"
  },
  "language_info": {
   "codemirror_mode": {
    "name": "ipython",
    "version": 3
   },
   "file_extension": ".py",
   "mimetype": "text/x-python",
   "name": "python",
   "nbconvert_exporter": "python",
   "pygments_lexer": "ipython3",
   "version": "3.10.9"
  }
 },
 "nbformat": 4,
 "nbformat_minor": 4
}
